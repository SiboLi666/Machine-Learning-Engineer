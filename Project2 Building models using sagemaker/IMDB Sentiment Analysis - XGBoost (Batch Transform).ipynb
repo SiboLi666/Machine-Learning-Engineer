{
 "cells": [
  {
   "cell_type": "markdown",
   "metadata": {},
   "source": [
    "# Sentiment Analysis\n",
    "\n",
    "## Using XGBoost in SageMaker\n",
    "\n",
    "_Deep Learning Nanodegree Program | Deployment_\n",
    "\n",
    "---\n",
    "\n",
    "As our first example of using Amazon's SageMaker service we will construct a random tree model to predict the sentiment of a movie review. You may have seen a version of this example in a pervious lesson although it would have been done using the sklearn package. Instead, we will be using the XGBoost package as it is provided to us by Amazon.\n",
    "\n",
    "## Instructions\n",
    "\n",
    "Some template code has already been provided for you, and you will need to implement additional functionality to successfully complete this notebook. You will not need to modify the included code beyond what is requested. Sections that begin with '**TODO**' in the header indicate that you need to complete or implement some portion within them. Instructions will be provided for each section and the specifics of the implementation are marked in the code block with a `# TODO: ...` comment. Please be sure to read the instructions carefully!\n",
    "\n",
    "In addition to implementing code, there may be questions for you to answer which relate to the task and your implementation. Each section where you will answer a question is preceded by a '**Question:**' header. Carefully read each question and provide your answer below the '**Answer:**' header by editing the Markdown cell.\n",
    "\n",
    "> **Note**: Code and Markdown cells can be executed using the **Shift+Enter** keyboard shortcut. In addition, a cell can be edited by typically clicking it (double-click for Markdown cells) or by pressing **Enter** while it is highlighted."
   ]
  },
  {
   "cell_type": "markdown",
   "metadata": {},
   "source": [
    "## Step 1: Downloading the data\n",
    "\n",
    "The dataset we are going to use is very popular among researchers in Natural Language Processing, usually referred to as the [IMDb dataset](http://ai.stanford.edu/~amaas/data/sentiment/). It consists of movie reviews from the website [imdb.com](http://www.imdb.com/), each labeled as either '**pos**itive', if the reviewer enjoyed the film, or '**neg**ative' otherwise.\n",
    "\n",
    "> Maas, Andrew L., et al. [Learning Word Vectors for Sentiment Analysis](http://ai.stanford.edu/~amaas/data/sentiment/). In _Proceedings of the 49th Annual Meeting of the Association for Computational Linguistics: Human Language Technologies_. Association for Computational Linguistics, 2011.\n",
    "\n",
    "We begin by using some Jupyter Notebook magic to download and extract the dataset."
   ]
  },
  {
   "cell_type": "code",
   "execution_count": 1,
   "metadata": {},
   "outputs": [
    {
     "name": "stdout",
     "output_type": "stream",
     "text": [
      "--2020-02-18 15:53:42--  http://ai.stanford.edu/~amaas/data/sentiment/aclImdb_v1.tar.gz\n",
      "Resolving ai.stanford.edu (ai.stanford.edu)... 171.64.68.10\n",
      "Connecting to ai.stanford.edu (ai.stanford.edu)|171.64.68.10|:80... connected.\n",
      "HTTP request sent, awaiting response... 200 OK\n",
      "Length: 84125825 (80M) [application/x-gzip]\n",
      "Saving to: ‘../data/aclImdb_v1.tar.gz’\n",
      "\n",
      "../data/aclImdb_v1. 100%[===================>]  80.23M  22.4MB/s    in 4.6s    \n",
      "\n",
      "2020-02-18 15:53:46 (17.4 MB/s) - ‘../data/aclImdb_v1.tar.gz’ saved [84125825/84125825]\n",
      "\n"
     ]
    }
   ],
   "source": [
    "%mkdir ../data\n",
    "!wget -O ../data/aclImdb_v1.tar.gz http://ai.stanford.edu/~amaas/data/sentiment/aclImdb_v1.tar.gz\n",
    "!tar -zxf ../data/aclImdb_v1.tar.gz -C ../data"
   ]
  },
  {
   "cell_type": "markdown",
   "metadata": {},
   "source": [
    "## Step 2: Preparing the data\n",
    "\n",
    "The data we have downloaded is split into various files, each of which contains a single review. It will be much easier going forward if we combine these individual files into two large files, one for training and one for testing."
   ]
  },
  {
   "cell_type": "code",
   "execution_count": 2,
   "metadata": {},
   "outputs": [],
   "source": [
    "import os\n",
    "import glob\n",
    "\n",
    "def read_imdb_data(data_dir='../data/aclImdb'):\n",
    "    data = {}\n",
    "    labels = {}\n",
    "    \n",
    "    for data_type in ['train', 'test']:\n",
    "        data[data_type] = {}\n",
    "        labels[data_type] = {}\n",
    "        \n",
    "        for sentiment in ['pos', 'neg']:\n",
    "            data[data_type][sentiment] = []\n",
    "            labels[data_type][sentiment] = []\n",
    "            \n",
    "            path = os.path.join(data_dir, data_type, sentiment, '*.txt')\n",
    "            files = glob.glob(path)\n",
    "            \n",
    "            for f in files:\n",
    "                with open(f) as review:\n",
    "                    data[data_type][sentiment].append(review.read())\n",
    "                    # Here we represent a positive review by '1' and a negative review by '0'\n",
    "                    labels[data_type][sentiment].append(1 if sentiment == 'pos' else 0)\n",
    "                    \n",
    "            assert len(data[data_type][sentiment]) == len(labels[data_type][sentiment]), \\\n",
    "                    \"{}/{} data size does not match labels size\".format(data_type, sentiment)\n",
    "                \n",
    "    return data, labels"
   ]
  },
  {
   "cell_type": "code",
   "execution_count": 3,
   "metadata": {},
   "outputs": [
    {
     "name": "stdout",
     "output_type": "stream",
     "text": [
      "IMDB reviews: train = 12500 pos / 12500 neg, test = 12500 pos / 12500 neg\n"
     ]
    }
   ],
   "source": [
    "data, labels = read_imdb_data()\n",
    "print(\"IMDB reviews: train = {} pos / {} neg, test = {} pos / {} neg\".format(\n",
    "            len(data['train']['pos']), len(data['train']['neg']),\n",
    "            len(data['test']['pos']), len(data['test']['neg'])))"
   ]
  },
  {
   "cell_type": "code",
   "execution_count": 4,
   "metadata": {},
   "outputs": [],
   "source": [
    "from sklearn.utils import shuffle\n",
    "\n",
    "def prepare_imdb_data(data, labels):\n",
    "    \"\"\"Prepare training and test sets from IMDb movie reviews.\"\"\"\n",
    "    \n",
    "    #Combine positive and negative reviews and labels\n",
    "    data_train = data['train']['pos'] + data['train']['neg']\n",
    "    data_test = data['test']['pos'] + data['test']['neg']\n",
    "    labels_train = labels['train']['pos'] + labels['train']['neg']\n",
    "    labels_test = labels['test']['pos'] + labels['test']['neg']\n",
    "    \n",
    "    #Shuffle reviews and corresponding labels within training and test sets\n",
    "    data_train, labels_train = shuffle(data_train, labels_train)\n",
    "    data_test, labels_test = shuffle(data_test, labels_test)\n",
    "    \n",
    "    # Return a unified training data, test data, training labels, test labets\n",
    "    return data_train, data_test, labels_train, labels_test"
   ]
  },
  {
   "cell_type": "code",
   "execution_count": 5,
   "metadata": {},
   "outputs": [
    {
     "name": "stdout",
     "output_type": "stream",
     "text": [
      "IMDb reviews (combined): train = 25000, test = 25000\n"
     ]
    }
   ],
   "source": [
    "train_X, test_X, train_y, test_y = prepare_imdb_data(data, labels)\n",
    "print(\"IMDb reviews (combined): train = {}, test = {}\".format(len(train_X), len(test_X)))"
   ]
  },
  {
   "cell_type": "code",
   "execution_count": 6,
   "metadata": {},
   "outputs": [
    {
     "data": {
      "text/plain": [
       "'Before I begin, you need to know that I am a huge fan of many of Sonny Chiba\\'s films. His biographical series of the life of his master, Mas Oyama, were amazing and among the best martial arts films ever made, as were most of his Street Fighter films. The action was practically non-stop and with the possible exception of Bruce Lee (depending on who you ask), he was the greatest martial arts practitioner on film during the 1970s. Because they are so good, I\\'ve seen at least 15 of his films and recently bought some more (which I am in the process of watching).<br /><br />Unfortunately, despite my love of these films, I am NOT a mind-numbed zombie who worships the man to such a degree that I rate EVERY film a 10. There are a few reviews like this here on IMDb and I truly think that anyone giving this film a 10 should be ignored because this is such a bad film from a technical standpoint and isn\\'t even close to the being Chiba\\'s best work. A score of 10 isn\\'t a real rating--it\\'s some zombie fan trying to make a statement about Chiba, not this film! As I said, technically this film is awful. Some of this was the result of my seeing the American dubbed version, with its irrelevant prologue and bad dubbing. But most of the problem would still exist with the original Japanese print. The camera-work is simply atrocious--like it was done by chimps (smart chimps, but still chimps nonetheless). Often, much of the fast martial arts action is missed because the camera is so slow or the tops of the actors heads are clipped off due to the shoddiness of production. And, again and again, the camera pans in and out like it is a new toy being used by an idiot plus the editing is beyond wretched--with cuts being done haphazardly and confusingly.<br /><br />I don\\'t know whether the musical score is original or not--but it was also very, very bad. Sort of like acid rock of 1970 blended poorly with Ennio Morricone\\'s \"Spaghetti Western\" music--it was annoying, distracting and just plain silly.<br /><br />As for the martial arts action, I think that having chimps do the choreography would have improved things a bit. Instead of the great fight scenes you\\'d look forward to in a Chiba film, the fights are too brief and often missed by the camera!! So what you are left with is the story...and this MIGHT just be the worst part of the film! It\\'s supposed to be an anti-drug film starring Sonny Chiba as....Sonny Chiba! And when the film begins, he vows to destroy the drug trade in Japan. But, the Mafia (complete with not a single member who looks Italian, but who are ALL Japanese) vows to stop Chiba. And, when a lady comes to Chiba with promises to give him information about how to destroy the drug trade, he agrees to help her and risk his life with no conditions--even though she\\'s NEVER forthright about telling him what she knows! In fact, later it turns out she is just trying to use Chiba to protect her while she herself sells a huge briefcase full of cocaine--and he CONTINUES trying to protect her!! This makes no sense at all and throughout much of the film it looks as if they just shot the film without a script--such as when they went into the bars and brothels and had Chiba walking about as if he was drunk.<br /><br />So if it was THAT bad, why still does it merit a 3? Well, first, there are many more horrid marital arts films (such as many of those from Hong Kong in the 1970s)--including one with guys dressed up in gorilla suits doing kung fu and their handlers with 3 foot long tongues they used for fighting (now THAT\\'S bad). Second, while the action is very bad compared to other Sonny Chiba films, compared to its contemporaries, it\\'s not that bad. Still, you could easily do a lot better than this horrid little film.<br /><br />By the way, if you are wondering if this is the worst Sonny Chiba film, it certainly is not! In one of his first films, INVASION OF THE NEPTUNE MEN, Chiba plays a leotard-wearing super-hero who battles pointy-headed invaders from the planet Neptune. It\\'s so bad that it rivals PLAN 9 FROM OUTER SPACE and THEY SAVED HITLER\\'S BRAIN for awfulness.<br /><br />A final note to parents--Like most of Sonny Chiba\\'s films, this one is very violent and has its share of boobies. DON\\'T let little kids watch this no matter how much they beg! Make them wait until they are older before you let them watch wretched rated-R martial arts films!'"
      ]
     },
     "execution_count": 6,
     "metadata": {},
     "output_type": "execute_result"
    }
   ],
   "source": [
    "train_X[100]"
   ]
  },
  {
   "cell_type": "markdown",
   "metadata": {},
   "source": [
    "## Step 3: Processing the data\n",
    "\n",
    "Now that we have our training and testing datasets merged and ready to use, we need to start processing the raw data into something that will be useable by our machine learning algorithm. To begin with, we remove any html formatting that may appear in the reviews and perform some standard natural language processing in order to homogenize the data."
   ]
  },
  {
   "cell_type": "code",
   "execution_count": 7,
   "metadata": {},
   "outputs": [
    {
     "name": "stdout",
     "output_type": "stream",
     "text": [
      "[nltk_data] Downloading package stopwords to\n",
      "[nltk_data]     /home/ec2-user/nltk_data...\n",
      "[nltk_data]   Unzipping corpora/stopwords.zip.\n"
     ]
    }
   ],
   "source": [
    "import nltk\n",
    "nltk.download(\"stopwords\")\n",
    "from nltk.corpus import stopwords\n",
    "from nltk.stem.porter import *\n",
    "stemmer = PorterStemmer()"
   ]
  },
  {
   "cell_type": "code",
   "execution_count": 8,
   "metadata": {},
   "outputs": [],
   "source": [
    "import re\n",
    "from bs4 import BeautifulSoup\n",
    "\n",
    "def review_to_words(review):\n",
    "    text = BeautifulSoup(review, \"html.parser\").get_text() # Remove HTML tags\n",
    "    text = re.sub(r\"[^a-zA-Z0-9]\", \" \", text.lower()) # Convert to lower case\n",
    "    words = text.split() # Split string into words\n",
    "    words = [w for w in words if w not in stopwords.words(\"english\")] # Remove stopwords\n",
    "    words = [PorterStemmer().stem(w) for w in words] # stem\n",
    "    \n",
    "    return words"
   ]
  },
  {
   "cell_type": "code",
   "execution_count": 10,
   "metadata": {},
   "outputs": [],
   "source": [
    "import pickle\n",
    "\n",
    "cache_dir = os.path.join(\"../cache\", \"sentiment_analysis\")  # where to store cache files\n",
    "os.makedirs(cache_dir, exist_ok=True)  # ensure cache directory exists\n",
    "\n",
    "def preprocess_data(data_train, data_test, labels_train, labels_test,\n",
    "                    cache_dir=cache_dir, cache_file=\"preprocessed_data.pkl\"):\n",
    "    \"\"\"Convert each review to words; read from cache if available.\"\"\"\n",
    "\n",
    "    # If cache_file is not None, try to read from it first\n",
    "    cache_data = None\n",
    "    if cache_file is not None:\n",
    "        try:\n",
    "            with open(os.path.join(cache_dir, cache_file), \"rb\") as f:\n",
    "                cache_data = pickle.load(f)\n",
    "            print(\"Read preprocessed data from cache file:\", cache_file)\n",
    "        except:\n",
    "            pass  # unable to read from cache, but that's okay\n",
    "    \n",
    "    # If cache is missing, then do the heavy lifting\n",
    "    if cache_data is None:\n",
    "        # Preprocess training and test data to obtain words for each review\n",
    "        #words_train = list(map(review_to_words, data_train))\n",
    "        #words_test = list(map(review_to_words, data_test))\n",
    "        words_train = [review_to_words(review) for review in data_train]\n",
    "        words_test = [review_to_words(review) for review in data_test]\n",
    "        \n",
    "        # Write to cache file for future runs\n",
    "        if cache_file is not None:\n",
    "            cache_data = dict(words_train=words_train, words_test=words_test,\n",
    "                              labels_train=labels_train, labels_test=labels_test)\n",
    "            with open(os.path.join(cache_dir, cache_file), \"wb\") as f:\n",
    "                pickle.dump(cache_data, f)\n",
    "            print(\"Wrote preprocessed data to cache file:\", cache_file)\n",
    "    else:\n",
    "        # Unpack data loaded from cache file\n",
    "        words_train, words_test, labels_train, labels_test = (cache_data['words_train'],\n",
    "                cache_data['words_test'], cache_data['labels_train'], cache_data['labels_test'])\n",
    "    \n",
    "    return words_train, words_test, labels_train, labels_test"
   ]
  },
  {
   "cell_type": "code",
   "execution_count": 11,
   "metadata": {},
   "outputs": [
    {
     "name": "stdout",
     "output_type": "stream",
     "text": [
      "Wrote preprocessed data to cache file: preprocessed_data.pkl\n"
     ]
    }
   ],
   "source": [
    "# Preprocess data\n",
    "train_X, test_X, train_y, test_y = preprocess_data(train_X, test_X, train_y, test_y)"
   ]
  },
  {
   "cell_type": "markdown",
   "metadata": {},
   "source": [
    "### Extract Bag-of-Words features\n",
    "\n",
    "For the model we will be implementing, rather than using the reviews directly, we are going to transform each review into a Bag-of-Words feature representation. Keep in mind that 'in the wild' we will only have access to the training set so our transformer can only use the training set to construct a representation."
   ]
  },
  {
   "cell_type": "code",
   "execution_count": 12,
   "metadata": {},
   "outputs": [],
   "source": [
    "import numpy as np\n",
    "from sklearn.feature_extraction.text import CountVectorizer\n",
    "from sklearn.externals import joblib\n",
    "# joblib is an enhanced version of pickle that is more efficient for storing NumPy arrays\n",
    "\n",
    "def extract_BoW_features(words_train, words_test, vocabulary_size=5000,\n",
    "                         cache_dir=cache_dir, cache_file=\"bow_features.pkl\"):\n",
    "    \"\"\"Extract Bag-of-Words for a given set of documents, already preprocessed into words.\"\"\"\n",
    "    \n",
    "    # If cache_file is not None, try to read from it first\n",
    "    cache_data = None\n",
    "    if cache_file is not None:\n",
    "        try:\n",
    "            with open(os.path.join(cache_dir, cache_file), \"rb\") as f:\n",
    "                cache_data = joblib.load(f)\n",
    "            print(\"Read features from cache file:\", cache_file)\n",
    "        except:\n",
    "            pass  # unable to read from cache, but that's okay\n",
    "    \n",
    "    # If cache is missing, then do the heavy lifting\n",
    "    if cache_data is None:\n",
    "        # Fit a vectorizer to training documents and use it to transform them\n",
    "        # NOTE: Training documents have already been preprocessed and tokenized into words;\n",
    "        #       pass in dummy functions to skip those steps, e.g. preprocessor=lambda x: x\n",
    "        vectorizer = CountVectorizer(max_features=vocabulary_size,\n",
    "                preprocessor=lambda x: x, tokenizer=lambda x: x)  # already preprocessed\n",
    "        features_train = vectorizer.fit_transform(words_train).toarray()\n",
    "\n",
    "        # Apply the same vectorizer to transform the test documents (ignore unknown words)\n",
    "        features_test = vectorizer.transform(words_test).toarray()\n",
    "        \n",
    "        # NOTE: Remember to convert the features using .toarray() for a compact representation\n",
    "        \n",
    "        # Write to cache file for future runs (store vocabulary as well)\n",
    "        if cache_file is not None:\n",
    "            vocabulary = vectorizer.vocabulary_\n",
    "            cache_data = dict(features_train=features_train, features_test=features_test,\n",
    "                             vocabulary=vocabulary)\n",
    "            with open(os.path.join(cache_dir, cache_file), \"wb\") as f:\n",
    "                joblib.dump(cache_data, f)\n",
    "            print(\"Wrote features to cache file:\", cache_file)\n",
    "    else:\n",
    "        # Unpack data loaded from cache file\n",
    "        features_train, features_test, vocabulary = (cache_data['features_train'],\n",
    "                cache_data['features_test'], cache_data['vocabulary'])\n",
    "    \n",
    "    # Return both the extracted features as well as the vocabulary\n",
    "    return features_train, features_test, vocabulary"
   ]
  },
  {
   "cell_type": "code",
   "execution_count": 13,
   "metadata": {},
   "outputs": [
    {
     "name": "stdout",
     "output_type": "stream",
     "text": [
      "Wrote features to cache file: bow_features.pkl\n"
     ]
    }
   ],
   "source": [
    "# Extract Bag of Words features for both training and test datasets\n",
    "train_X, test_X, vocabulary = extract_BoW_features(train_X, test_X)"
   ]
  },
  {
   "cell_type": "markdown",
   "metadata": {},
   "source": [
    "## Step 4: Classification using XGBoost\n",
    "\n",
    "Now that we have created the feature representation of our training (and testing) data, it is time to start setting up and using the XGBoost classifier provided by SageMaker.\n",
    "\n",
    "### (TODO) Writing the dataset\n",
    "\n",
    "The XGBoost classifier that we will be using requires the dataset to be written to a file and stored using Amazon S3. To do this, we will start by splitting the training dataset into two parts, the data we will train the model with and a validation set. Then, we will write those datasets to a file and upload the files to S3. In addition, we will write the test set input to a file and upload the file to S3. This is so that we can use SageMakers Batch Transform functionality to test our model once we've fit it."
   ]
  },
  {
   "cell_type": "code",
   "execution_count": 14,
   "metadata": {},
   "outputs": [],
   "source": [
    "import pandas as pd\n",
    "\n",
    "# TODO: Split the train_X and train_y arrays into the DataFrames val_X, train_X and val_y, train_y. Make sure that\n",
    "#       val_X and val_y contain 10 000 entires while train_X and train_y contain the remaining 15 000 entries.\n",
    "val_X = pd.DataFrame(train_X[:10000])\n",
    "train_X = pd.DataFrame(train_X[10000:])\n",
    "\n",
    "val_y = pd.DataFrame(train_y[:10000])\n",
    "train_y = pd.DataFrame(train_y[10000:])"
   ]
  },
  {
   "cell_type": "markdown",
   "metadata": {},
   "source": [
    "The documentation for the XGBoost algorithm in SageMaker requires that the saved datasets should contain no headers or index and that for the training and validation data, the label should occur first for each sample.\n",
    "\n",
    "For more information about this and other algorithms, the SageMaker developer documentation can be found on __[Amazon's website.](https://docs.aws.amazon.com/sagemaker/latest/dg/)__"
   ]
  },
  {
   "cell_type": "code",
   "execution_count": 15,
   "metadata": {},
   "outputs": [],
   "source": [
    "# First we make sure that the local directory in which we'd like to store the training and validation csv files exists.\n",
    "data_dir = '../data/xgboost'\n",
    "if not os.path.exists(data_dir):\n",
    "    os.makedirs(data_dir)"
   ]
  },
  {
   "cell_type": "code",
   "execution_count": 16,
   "metadata": {},
   "outputs": [],
   "source": [
    "# First, save the test data to test.csv in the data_dir directory. Note that we do not save the associated ground truth\n",
    "# labels, instead we will use them later to compare with our model output.\n",
    "\n",
    "pd.DataFrame(test_X).to_csv(os.path.join(data_dir, 'test.csv'), header=False, index=False)\n",
    "\n",
    "# TODO: Save the training and validation data to train.csv and validation.csv in the data_dir directory.\n",
    "#       Make sure that the files you create are in the correct format.\n",
    "\n",
    "pd.concat([val_y, val_X], axis=1).to_csv(os.path.join(data_dir, 'validation.csv'), header=False, index=False)\n",
    "pd.concat([train_y, train_X], axis=1).to_csv(os.path.join(data_dir, 'train.csv'), header=False, index=False)\n",
    "\n",
    "\n"
   ]
  },
  {
   "cell_type": "code",
   "execution_count": 17,
   "metadata": {},
   "outputs": [],
   "source": [
    "# To save a bit of memory we can set text_X, train_X, val_X, train_y and val_y to None.\n",
    "\n",
    "test_X = train_X = val_X = train_y = val_y = None"
   ]
  },
  {
   "cell_type": "markdown",
   "metadata": {},
   "source": [
    "### (TODO) Uploading Training / Validation files to S3\n",
    "\n",
    "Amazon's S3 service allows us to store files that can be access by both the built-in training models such as the XGBoost model we will be using as well as custom models such as the one we will see a little later.\n",
    "\n",
    "For this, and most other tasks we will be doing using SageMaker, there are two methods we could use. The first is to use the low level functionality of SageMaker which requires knowing each of the objects involved in the SageMaker environment. The second is to use the high level functionality in which certain choices have been made on the user's behalf. The low level approach benefits from allowing the user a great deal of flexibility while the high level approach makes development much quicker. For our purposes we will opt to use the high level approach although using the low-level approach is certainly an option.\n",
    "\n",
    "Recall the method `upload_data()` which is a member of object representing our current SageMaker session. What this method does is upload the data to the default bucket (which is created if it does not exist) into the path described by the key_prefix variable. To see this for yourself, once you have uploaded the data files, go to the S3 console and look to see where the files have been uploaded.\n",
    "\n",
    "For additional resources, see the __[SageMaker API documentation](http://sagemaker.readthedocs.io/en/latest/)__ and in addition the __[SageMaker Developer Guide.](https://docs.aws.amazon.com/sagemaker/latest/dg/)__"
   ]
  },
  {
   "cell_type": "code",
   "execution_count": 18,
   "metadata": {},
   "outputs": [],
   "source": [
    "import sagemaker\n",
    "\n",
    "session = sagemaker.Session() # Store the current SageMaker session\n",
    "\n",
    "# S3 prefix (which folder will we use)\n",
    "prefix = 'sentiment-xgboost'\n",
    "\n",
    "# TODO: Upload the test.csv, train.csv and validation.csv files which are contained in data_dir to S3 using sess.upload_data().\n",
    "test_location = session.upload_data(os.path.join(data_dir, 'test.csv'), key_prefix=prefix)\n",
    "val_location = session.upload_data(os.path.join(data_dir, 'validation.csv'), key_prefix=prefix)\n",
    "train_location = session.upload_data(os.path.join(data_dir, 'train.csv'), key_prefix=prefix)"
   ]
  },
  {
   "cell_type": "markdown",
   "metadata": {},
   "source": [
    "### (TODO) Creating the XGBoost model\n",
    "\n",
    "Now that the data has been uploaded it is time to create the XGBoost model. To begin with, we need to do some setup. At this point it is worth discussing what a model is in SageMaker. It is easiest to think of a model of comprising three different objects in the SageMaker ecosystem, which interact with one another.\n",
    "\n",
    "- Model Artifacts\n",
    "- Training Code (Container)\n",
    "- Inference Code (Container)\n",
    "\n",
    "The Model Artifacts are what you might think of as the actual model itself. For example, if you were building a neural network, the model artifacts would be the weights of the various layers. In our case, for an XGBoost model, the artifacts are the actual trees that are created during training.\n",
    "\n",
    "The other two objects, the training code and the inference code are then used the manipulate the training artifacts. More precisely, the training code uses the training data that is provided and creates the model artifacts, while the inference code uses the model artifacts to make predictions on new data.\n",
    "\n",
    "The way that SageMaker runs the training and inference code is by making use of Docker containers. For now, think of a container as being a way of packaging code up so that dependencies aren't an issue."
   ]
  },
  {
   "cell_type": "code",
   "execution_count": 19,
   "metadata": {},
   "outputs": [],
   "source": [
    "from sagemaker import get_execution_role\n",
    "\n",
    "# Our current execution role is require when creating the model as the training\n",
    "# and inference code will need to access the model artifacts.\n",
    "role = get_execution_role()"
   ]
  },
  {
   "cell_type": "code",
   "execution_count": 20,
   "metadata": {},
   "outputs": [
    {
     "name": "stderr",
     "output_type": "stream",
     "text": [
      "WARNING:root:There is a more up to date SageMaker XGBoost image. To use the newer image, please set 'repo_version'='0.90-1'. For example:\n",
      "\tget_image_uri(region, 'xgboost', '0.90-1').\n"
     ]
    }
   ],
   "source": [
    "# We need to retrieve the location of the container which is provided by Amazon for using XGBoost.\n",
    "# As a matter of convenience, the training and inference code both use the same container.\n",
    "from sagemaker.amazon.amazon_estimator import get_image_uri\n",
    "\n",
    "container = get_image_uri(session.boto_region_name, 'xgboost')"
   ]
  },
  {
   "cell_type": "code",
   "execution_count": 21,
   "metadata": {},
   "outputs": [],
   "source": [
    "# TODO: Create a SageMaker estimator using the container location determined in the previous cell.\n",
    "#       It is recommended that you use a single training instance of type ml.m4.xlarge. It is also\n",
    "#       recommended that you use 's3://{}/{}/output'.format(session.default_bucket(), prefix) as the\n",
    "#       output path.\n",
    "\n",
    "xgb = None\n",
    "\n",
    "\n",
    "# TODO: Set the XGBoost hyperparameters in the xgb object. Don't forget that in this case we have a binary\n",
    "#       label so we should be using the 'binary:logistic' objective.\n",
    "xgb = sagemaker.estimator.Estimator(container,\n",
    "                                   role,\n",
    "                                   train_instance_count=1,\n",
    "                                   train_instance_type='ml.m4.xlarge',\n",
    "                                   output_path='s3://{}/{}/output'.format(session.default_bucket(), prefix),\n",
    "                                   sagemaker_session=session)\n",
    "xgb.set_hyperparameters(max_depth=5,\n",
    "                       eta=0.2,\n",
    "                       gamma=4,\n",
    "                       min_child_weight=6,\n",
    "                       subsample=0.8,\n",
    "                       silent=0,\n",
    "                       objective='binary:logistic',\n",
    "                       early_stopping_rounds=10,\n",
    "                       num_round=500)"
   ]
  },
  {
   "cell_type": "markdown",
   "metadata": {},
   "source": [
    "### Fit the XGBoost model\n",
    "\n",
    "Now that our model has been set up we simply need to attach the training and validation datasets and then ask SageMaker to set up the computation."
   ]
  },
  {
   "cell_type": "code",
   "execution_count": 22,
   "metadata": {},
   "outputs": [],
   "source": [
    "s3_input_train = sagemaker.s3_input(s3_data=train_location, content_type='csv')\n",
    "s3_input_validation = sagemaker.s3_input(s3_data=val_location, content_type='csv')"
   ]
  },
  {
   "cell_type": "code",
   "execution_count": 23,
   "metadata": {},
   "outputs": [
    {
     "name": "stdout",
     "output_type": "stream",
     "text": [
      "2020-02-18 17:24:49 Starting - Starting the training job...\n",
      "2020-02-18 17:24:50 Starting - Launching requested ML instances...\n",
      "2020-02-18 17:25:46 Starting - Preparing the instances for training......\n",
      "2020-02-18 17:26:39 Downloading - Downloading input data...\n",
      "2020-02-18 17:27:16 Training - Training image download completed. Training in progress..\u001b[34mArguments: train\u001b[0m\n",
      "\u001b[34m[2020-02-18:17:27:16:INFO] Running standalone xgboost training.\u001b[0m\n",
      "\u001b[34m[2020-02-18:17:27:16:INFO] File size need to be processed in the node: 238.47mb. Available memory size in the node: 8487.52mb\u001b[0m\n",
      "\u001b[34m[2020-02-18:17:27:16:INFO] Determined delimiter of CSV input is ','\u001b[0m\n",
      "\u001b[34m[17:27:16] S3DistributionType set as FullyReplicated\u001b[0m\n",
      "\u001b[34m[17:27:18] 15000x5000 matrix with 75000000 entries loaded from /opt/ml/input/data/train?format=csv&label_column=0&delimiter=,\u001b[0m\n",
      "\u001b[34m[2020-02-18:17:27:18:INFO] Determined delimiter of CSV input is ','\u001b[0m\n",
      "\u001b[34m[17:27:18] S3DistributionType set as FullyReplicated\u001b[0m\n",
      "\u001b[34m[17:27:19] 10000x5000 matrix with 50000000 entries loaded from /opt/ml/input/data/validation?format=csv&label_column=0&delimiter=,\u001b[0m\n",
      "\u001b[34m[17:27:23] src/tree/updater_prune.cc:74: tree pruning end, 1 roots, 32 extra nodes, 10 pruned nodes, max_depth=5\u001b[0m\n",
      "\u001b[34m[0]#011train-error:0.299467#011validation-error:0.2964\u001b[0m\n",
      "\u001b[34mMultiple eval metrics have been passed: 'validation-error' will be used for early stopping.\n",
      "\u001b[0m\n",
      "\u001b[34mWill train until validation-error hasn't improved in 10 rounds.\u001b[0m\n",
      "\u001b[34m[17:27:24] src/tree/updater_prune.cc:74: tree pruning end, 1 roots, 38 extra nodes, 6 pruned nodes, max_depth=5\u001b[0m\n",
      "\u001b[34m[1]#011train-error:0.282867#011validation-error:0.2835\u001b[0m\n",
      "\u001b[34m[17:27:25] src/tree/updater_prune.cc:74: tree pruning end, 1 roots, 40 extra nodes, 8 pruned nodes, max_depth=5\u001b[0m\n",
      "\u001b[34m[2]#011train-error:0.2718#011validation-error:0.2743\u001b[0m\n",
      "\u001b[34m[17:27:27] src/tree/updater_prune.cc:74: tree pruning end, 1 roots, 34 extra nodes, 8 pruned nodes, max_depth=5\u001b[0m\n",
      "\u001b[34m[3]#011train-error:0.2686#011validation-error:0.2702\u001b[0m\n",
      "\u001b[34m[17:27:28] src/tree/updater_prune.cc:74: tree pruning end, 1 roots, 34 extra nodes, 2 pruned nodes, max_depth=5\u001b[0m\n",
      "\u001b[34m[4]#011train-error:0.267733#011validation-error:0.2682\u001b[0m\n",
      "\u001b[34m[17:27:29] src/tree/updater_prune.cc:74: tree pruning end, 1 roots, 34 extra nodes, 6 pruned nodes, max_depth=5\u001b[0m\n",
      "\u001b[34m[5]#011train-error:0.256333#011validation-error:0.261\u001b[0m\n",
      "\u001b[34m[17:27:31] src/tree/updater_prune.cc:74: tree pruning end, 1 roots, 36 extra nodes, 6 pruned nodes, max_depth=5\u001b[0m\n",
      "\u001b[34m[6]#011train-error:0.2404#011validation-error:0.2479\u001b[0m\n",
      "\u001b[34m[17:27:32] src/tree/updater_prune.cc:74: tree pruning end, 1 roots, 38 extra nodes, 0 pruned nodes, max_depth=5\u001b[0m\n",
      "\u001b[34m[7]#011train-error:0.2346#011validation-error:0.2419\u001b[0m\n",
      "\u001b[34m[17:27:33] src/tree/updater_prune.cc:74: tree pruning end, 1 roots, 34 extra nodes, 0 pruned nodes, max_depth=5\u001b[0m\n",
      "\u001b[34m[8]#011train-error:0.230533#011validation-error:0.2414\u001b[0m\n",
      "\u001b[34m[17:27:34] src/tree/updater_prune.cc:74: tree pruning end, 1 roots, 30 extra nodes, 0 pruned nodes, max_depth=5\u001b[0m\n",
      "\u001b[34m[9]#011train-error:0.2278#011validation-error:0.2374\u001b[0m\n",
      "\u001b[34m[17:27:36] src/tree/updater_prune.cc:74: tree pruning end, 1 roots, 38 extra nodes, 10 pruned nodes, max_depth=5\u001b[0m\n",
      "\u001b[34m[10]#011train-error:0.224067#011validation-error:0.235\u001b[0m\n",
      "\u001b[34m[17:27:37] src/tree/updater_prune.cc:74: tree pruning end, 1 roots, 40 extra nodes, 8 pruned nodes, max_depth=5\u001b[0m\n",
      "\u001b[34m[11]#011train-error:0.217933#011validation-error:0.2291\u001b[0m\n",
      "\u001b[34m[17:27:38] src/tree/updater_prune.cc:74: tree pruning end, 1 roots, 20 extra nodes, 8 pruned nodes, max_depth=5\u001b[0m\n",
      "\u001b[34m[12]#011train-error:0.210133#011validation-error:0.2246\u001b[0m\n",
      "\u001b[34m[17:27:40] src/tree/updater_prune.cc:74: tree pruning end, 1 roots, 32 extra nodes, 6 pruned nodes, max_depth=5\u001b[0m\n",
      "\u001b[34m[13]#011train-error:0.2072#011validation-error:0.2228\u001b[0m\n",
      "\u001b[34m[17:27:41] src/tree/updater_prune.cc:74: tree pruning end, 1 roots, 34 extra nodes, 4 pruned nodes, max_depth=5\u001b[0m\n",
      "\u001b[34m[14]#011train-error:0.2024#011validation-error:0.2208\u001b[0m\n",
      "\u001b[34m[17:27:42] src/tree/updater_prune.cc:74: tree pruning end, 1 roots, 26 extra nodes, 6 pruned nodes, max_depth=5\u001b[0m\n",
      "\u001b[34m[15]#011train-error:0.1986#011validation-error:0.2184\u001b[0m\n",
      "\u001b[34m[17:27:43] src/tree/updater_prune.cc:74: tree pruning end, 1 roots, 40 extra nodes, 4 pruned nodes, max_depth=5\u001b[0m\n",
      "\u001b[34m[16]#011train-error:0.194267#011validation-error:0.2159\u001b[0m\n",
      "\u001b[34m[17:27:45] src/tree/updater_prune.cc:74: tree pruning end, 1 roots, 24 extra nodes, 6 pruned nodes, max_depth=5\u001b[0m\n",
      "\u001b[34m[17]#011train-error:0.190867#011validation-error:0.213\u001b[0m\n",
      "\u001b[34m[17:27:46] src/tree/updater_prune.cc:74: tree pruning end, 1 roots, 30 extra nodes, 6 pruned nodes, max_depth=5\u001b[0m\n",
      "\u001b[34m[18]#011train-error:0.187133#011validation-error:0.2105\u001b[0m\n",
      "\u001b[34m[17:27:47] src/tree/updater_prune.cc:74: tree pruning end, 1 roots, 22 extra nodes, 10 pruned nodes, max_depth=5\u001b[0m\n",
      "\u001b[34m[19]#011train-error:0.184533#011validation-error:0.2087\u001b[0m\n",
      "\u001b[34m[17:27:48] src/tree/updater_prune.cc:74: tree pruning end, 1 roots, 34 extra nodes, 10 pruned nodes, max_depth=5\u001b[0m\n",
      "\u001b[34m[20]#011train-error:0.182133#011validation-error:0.2069\u001b[0m\n",
      "\u001b[34m[17:27:50] src/tree/updater_prune.cc:74: tree pruning end, 1 roots, 36 extra nodes, 6 pruned nodes, max_depth=5\u001b[0m\n",
      "\u001b[34m[21]#011train-error:0.177067#011validation-error:0.202\u001b[0m\n",
      "\u001b[34m[17:27:51] src/tree/updater_prune.cc:74: tree pruning end, 1 roots, 30 extra nodes, 4 pruned nodes, max_depth=5\u001b[0m\n",
      "\u001b[34m[22]#011train-error:0.174733#011validation-error:0.1998\u001b[0m\n",
      "\u001b[34m[17:27:52] src/tree/updater_prune.cc:74: tree pruning end, 1 roots, 32 extra nodes, 8 pruned nodes, max_depth=5\u001b[0m\n",
      "\u001b[34m[23]#011train-error:0.174667#011validation-error:0.2\u001b[0m\n",
      "\u001b[34m[17:27:54] src/tree/updater_prune.cc:74: tree pruning end, 1 roots, 30 extra nodes, 4 pruned nodes, max_depth=5\u001b[0m\n",
      "\u001b[34m[24]#011train-error:0.1736#011validation-error:0.2009\u001b[0m\n",
      "\u001b[34m[17:27:55] src/tree/updater_prune.cc:74: tree pruning end, 1 roots, 14 extra nodes, 16 pruned nodes, max_depth=5\u001b[0m\n",
      "\u001b[34m[25]#011train-error:0.172867#011validation-error:0.1993\u001b[0m\n",
      "\u001b[34m[17:27:56] src/tree/updater_prune.cc:74: tree pruning end, 1 roots, 30 extra nodes, 10 pruned nodes, max_depth=5\u001b[0m\n",
      "\u001b[34m[26]#011train-error:0.170667#011validation-error:0.1973\u001b[0m\n",
      "\u001b[34m[17:27:57] src/tree/updater_prune.cc:74: tree pruning end, 1 roots, 30 extra nodes, 12 pruned nodes, max_depth=5\u001b[0m\n",
      "\u001b[34m[27]#011train-error:0.169067#011validation-error:0.196\u001b[0m\n",
      "\u001b[34m[17:27:59] src/tree/updater_prune.cc:74: tree pruning end, 1 roots, 14 extra nodes, 14 pruned nodes, max_depth=5\u001b[0m\n",
      "\u001b[34m[28]#011train-error:0.1678#011validation-error:0.1961\u001b[0m\n",
      "\u001b[34m[17:28:00] src/tree/updater_prune.cc:74: tree pruning end, 1 roots, 22 extra nodes, 12 pruned nodes, max_depth=5\u001b[0m\n",
      "\u001b[34m[29]#011train-error:0.167067#011validation-error:0.1948\u001b[0m\n",
      "\u001b[34m[17:28:01] src/tree/updater_prune.cc:74: tree pruning end, 1 roots, 34 extra nodes, 12 pruned nodes, max_depth=5\u001b[0m\n",
      "\u001b[34m[30]#011train-error:0.1634#011validation-error:0.1928\u001b[0m\n",
      "\u001b[34m[17:28:02] src/tree/updater_prune.cc:74: tree pruning end, 1 roots, 28 extra nodes, 18 pruned nodes, max_depth=5\u001b[0m\n",
      "\u001b[34m[31]#011train-error:0.161733#011validation-error:0.1912\u001b[0m\n",
      "\u001b[34m[17:28:04] src/tree/updater_prune.cc:74: tree pruning end, 1 roots, 18 extra nodes, 14 pruned nodes, max_depth=5\u001b[0m\n",
      "\u001b[34m[32]#011train-error:0.1592#011validation-error:0.1905\u001b[0m\n",
      "\u001b[34m[17:28:05] src/tree/updater_prune.cc:74: tree pruning end, 1 roots, 30 extra nodes, 6 pruned nodes, max_depth=5\u001b[0m\n",
      "\u001b[34m[33]#011train-error:0.158067#011validation-error:0.1893\u001b[0m\n",
      "\u001b[34m[17:28:06] src/tree/updater_prune.cc:74: tree pruning end, 1 roots, 16 extra nodes, 10 pruned nodes, max_depth=5\u001b[0m\n",
      "\u001b[34m[34]#011train-error:0.1574#011validation-error:0.1882\u001b[0m\n",
      "\u001b[34m[17:28:07] src/tree/updater_prune.cc:74: tree pruning end, 1 roots, 36 extra nodes, 8 pruned nodes, max_depth=5\u001b[0m\n",
      "\u001b[34m[35]#011train-error:0.154867#011validation-error:0.1875\u001b[0m\n",
      "\u001b[34m[17:28:09] src/tree/updater_prune.cc:74: tree pruning end, 1 roots, 20 extra nodes, 12 pruned nodes, max_depth=5\u001b[0m\n",
      "\u001b[34m[36]#011train-error:0.1548#011validation-error:0.186\u001b[0m\n",
      "\u001b[34m[17:28:10] src/tree/updater_prune.cc:74: tree pruning end, 1 roots, 18 extra nodes, 12 pruned nodes, max_depth=5\u001b[0m\n",
      "\u001b[34m[37]#011train-error:0.153933#011validation-error:0.1859\u001b[0m\n",
      "\u001b[34m[17:28:11] src/tree/updater_prune.cc:74: tree pruning end, 1 roots, 26 extra nodes, 12 pruned nodes, max_depth=5\u001b[0m\n",
      "\u001b[34m[38]#011train-error:0.151933#011validation-error:0.1851\u001b[0m\n",
      "\u001b[34m[17:28:12] src/tree/updater_prune.cc:74: tree pruning end, 1 roots, 26 extra nodes, 10 pruned nodes, max_depth=5\u001b[0m\n",
      "\u001b[34m[39]#011train-error:0.1508#011validation-error:0.1833\u001b[0m\n",
      "\u001b[34m[17:28:14] src/tree/updater_prune.cc:74: tree pruning end, 1 roots, 22 extra nodes, 6 pruned nodes, max_depth=5\u001b[0m\n",
      "\u001b[34m[40]#011train-error:0.149333#011validation-error:0.1836\u001b[0m\n",
      "\u001b[34m[17:28:15] src/tree/updater_prune.cc:74: tree pruning end, 1 roots, 34 extra nodes, 4 pruned nodes, max_depth=5\u001b[0m\n",
      "\u001b[34m[41]#011train-error:0.148733#011validation-error:0.183\u001b[0m\n",
      "\u001b[34m[17:28:16] src/tree/updater_prune.cc:74: tree pruning end, 1 roots, 34 extra nodes, 12 pruned nodes, max_depth=5\u001b[0m\n",
      "\u001b[34m[42]#011train-error:0.1466#011validation-error:0.1825\u001b[0m\n",
      "\u001b[34m[17:28:17] src/tree/updater_prune.cc:74: tree pruning end, 1 roots, 20 extra nodes, 14 pruned nodes, max_depth=5\u001b[0m\n",
      "\u001b[34m[43]#011train-error:0.144267#011validation-error:0.1818\u001b[0m\n"
     ]
    },
    {
     "name": "stdout",
     "output_type": "stream",
     "text": [
      "\u001b[34m[17:28:19] src/tree/updater_prune.cc:74: tree pruning end, 1 roots, 24 extra nodes, 14 pruned nodes, max_depth=5\u001b[0m\n",
      "\u001b[34m[44]#011train-error:0.142667#011validation-error:0.1802\u001b[0m\n",
      "\u001b[34m[17:28:20] src/tree/updater_prune.cc:74: tree pruning end, 1 roots, 12 extra nodes, 6 pruned nodes, max_depth=5\u001b[0m\n",
      "\u001b[34m[45]#011train-error:0.141867#011validation-error:0.1781\u001b[0m\n",
      "\u001b[34m[17:28:21] src/tree/updater_prune.cc:74: tree pruning end, 1 roots, 22 extra nodes, 8 pruned nodes, max_depth=5\u001b[0m\n",
      "\u001b[34m[46]#011train-error:0.141067#011validation-error:0.177\u001b[0m\n",
      "\u001b[34m[17:28:22] src/tree/updater_prune.cc:74: tree pruning end, 1 roots, 28 extra nodes, 16 pruned nodes, max_depth=5\u001b[0m\n",
      "\u001b[34m[47]#011train-error:0.139#011validation-error:0.1748\u001b[0m\n",
      "\u001b[34m[17:28:24] src/tree/updater_prune.cc:74: tree pruning end, 1 roots, 32 extra nodes, 10 pruned nodes, max_depth=5\u001b[0m\n",
      "\u001b[34m[48]#011train-error:0.137533#011validation-error:0.1737\u001b[0m\n",
      "\u001b[34m[17:28:25] src/tree/updater_prune.cc:74: tree pruning end, 1 roots, 34 extra nodes, 4 pruned nodes, max_depth=5\u001b[0m\n",
      "\u001b[34m[49]#011train-error:0.135867#011validation-error:0.1751\u001b[0m\n",
      "\u001b[34m[17:28:26] src/tree/updater_prune.cc:74: tree pruning end, 1 roots, 16 extra nodes, 8 pruned nodes, max_depth=5\u001b[0m\n",
      "\u001b[34m[50]#011train-error:0.134867#011validation-error:0.1735\u001b[0m\n",
      "\u001b[34m[17:28:27] src/tree/updater_prune.cc:74: tree pruning end, 1 roots, 26 extra nodes, 6 pruned nodes, max_depth=5\u001b[0m\n",
      "\u001b[34m[51]#011train-error:0.134733#011validation-error:0.1733\u001b[0m\n",
      "\u001b[34m[17:28:29] src/tree/updater_prune.cc:74: tree pruning end, 1 roots, 18 extra nodes, 8 pruned nodes, max_depth=5\u001b[0m\n",
      "\u001b[34m[52]#011train-error:0.133933#011validation-error:0.173\u001b[0m\n",
      "\u001b[34m[17:28:30] src/tree/updater_prune.cc:74: tree pruning end, 1 roots, 14 extra nodes, 12 pruned nodes, max_depth=5\u001b[0m\n",
      "\u001b[34m[53]#011train-error:0.132#011validation-error:0.172\u001b[0m\n",
      "\u001b[34m[17:28:31] src/tree/updater_prune.cc:74: tree pruning end, 1 roots, 24 extra nodes, 20 pruned nodes, max_depth=5\u001b[0m\n",
      "\u001b[34m[54]#011train-error:0.131333#011validation-error:0.1733\u001b[0m\n",
      "\u001b[34m[17:28:32] src/tree/updater_prune.cc:74: tree pruning end, 1 roots, 16 extra nodes, 6 pruned nodes, max_depth=5\u001b[0m\n",
      "\u001b[34m[55]#011train-error:0.130667#011validation-error:0.1722\u001b[0m\n",
      "\u001b[34m[17:28:34] src/tree/updater_prune.cc:74: tree pruning end, 1 roots, 16 extra nodes, 2 pruned nodes, max_depth=5\u001b[0m\n",
      "\u001b[34m[56]#011train-error:0.130067#011validation-error:0.1724\u001b[0m\n",
      "\u001b[34m[17:28:35] src/tree/updater_prune.cc:74: tree pruning end, 1 roots, 30 extra nodes, 10 pruned nodes, max_depth=5\u001b[0m\n",
      "\u001b[34m[57]#011train-error:0.1294#011validation-error:0.17\u001b[0m\n",
      "\u001b[34m[17:28:36] src/tree/updater_prune.cc:74: tree pruning end, 1 roots, 20 extra nodes, 14 pruned nodes, max_depth=5\u001b[0m\n",
      "\u001b[34m[58]#011train-error:0.1278#011validation-error:0.1681\u001b[0m\n",
      "\u001b[34m[17:28:38] src/tree/updater_prune.cc:74: tree pruning end, 1 roots, 22 extra nodes, 4 pruned nodes, max_depth=5\u001b[0m\n",
      "\u001b[34m[59]#011train-error:0.127733#011validation-error:0.1676\u001b[0m\n",
      "\u001b[34m[17:28:39] src/tree/updater_prune.cc:74: tree pruning end, 1 roots, 20 extra nodes, 6 pruned nodes, max_depth=5\u001b[0m\n",
      "\u001b[34m[60]#011train-error:0.127467#011validation-error:0.1666\u001b[0m\n",
      "\u001b[34m[17:28:40] src/tree/updater_prune.cc:74: tree pruning end, 1 roots, 32 extra nodes, 6 pruned nodes, max_depth=5\u001b[0m\n",
      "\u001b[34m[61]#011train-error:0.126933#011validation-error:0.1662\u001b[0m\n",
      "\u001b[34m[17:28:41] src/tree/updater_prune.cc:74: tree pruning end, 1 roots, 20 extra nodes, 14 pruned nodes, max_depth=5\u001b[0m\n",
      "\u001b[34m[62]#011train-error:0.1268#011validation-error:0.1658\u001b[0m\n",
      "\u001b[34m[17:28:43] src/tree/updater_prune.cc:74: tree pruning end, 1 roots, 26 extra nodes, 12 pruned nodes, max_depth=5\u001b[0m\n",
      "\u001b[34m[63]#011train-error:0.126#011validation-error:0.1649\u001b[0m\n",
      "\u001b[34m[17:28:44] src/tree/updater_prune.cc:74: tree pruning end, 1 roots, 16 extra nodes, 4 pruned nodes, max_depth=5\u001b[0m\n",
      "\u001b[34m[64]#011train-error:0.125267#011validation-error:0.1645\u001b[0m\n",
      "\u001b[34m[17:28:45] src/tree/updater_prune.cc:74: tree pruning end, 1 roots, 24 extra nodes, 4 pruned nodes, max_depth=5\u001b[0m\n",
      "\u001b[34m[65]#011train-error:0.1246#011validation-error:0.1642\u001b[0m\n",
      "\u001b[34m[17:28:46] src/tree/updater_prune.cc:74: tree pruning end, 1 roots, 12 extra nodes, 6 pruned nodes, max_depth=5\u001b[0m\n",
      "\u001b[34m[66]#011train-error:0.1238#011validation-error:0.1633\u001b[0m\n",
      "\u001b[34m[17:28:48] src/tree/updater_prune.cc:74: tree pruning end, 1 roots, 24 extra nodes, 8 pruned nodes, max_depth=5\u001b[0m\n",
      "\u001b[34m[67]#011train-error:0.124#011validation-error:0.1631\u001b[0m\n",
      "\u001b[34m[17:28:49] src/tree/updater_prune.cc:74: tree pruning end, 1 roots, 14 extra nodes, 10 pruned nodes, max_depth=5\u001b[0m\n",
      "\u001b[34m[68]#011train-error:0.124133#011validation-error:0.1632\u001b[0m\n",
      "\u001b[34m[17:28:50] src/tree/updater_prune.cc:74: tree pruning end, 1 roots, 26 extra nodes, 2 pruned nodes, max_depth=5\u001b[0m\n",
      "\u001b[34m[69]#011train-error:0.1232#011validation-error:0.162\u001b[0m\n",
      "\u001b[34m[17:28:51] src/tree/updater_prune.cc:74: tree pruning end, 1 roots, 16 extra nodes, 8 pruned nodes, max_depth=5\u001b[0m\n",
      "\u001b[34m[70]#011train-error:0.123667#011validation-error:0.1619\u001b[0m\n",
      "\u001b[34m[17:28:53] src/tree/updater_prune.cc:74: tree pruning end, 1 roots, 14 extra nodes, 8 pruned nodes, max_depth=5\u001b[0m\n",
      "\u001b[34m[71]#011train-error:0.1228#011validation-error:0.1614\u001b[0m\n",
      "\u001b[34m[17:28:54] src/tree/updater_prune.cc:74: tree pruning end, 1 roots, 26 extra nodes, 10 pruned nodes, max_depth=5\u001b[0m\n",
      "\u001b[34m[72]#011train-error:0.1224#011validation-error:0.1618\u001b[0m\n",
      "\u001b[34m[17:28:55] src/tree/updater_prune.cc:74: tree pruning end, 1 roots, 14 extra nodes, 12 pruned nodes, max_depth=5\u001b[0m\n",
      "\u001b[34m[73]#011train-error:0.1222#011validation-error:0.1618\u001b[0m\n",
      "\u001b[34m[17:28:56] src/tree/updater_prune.cc:74: tree pruning end, 1 roots, 14 extra nodes, 18 pruned nodes, max_depth=5\u001b[0m\n",
      "\u001b[34m[74]#011train-error:0.1214#011validation-error:0.1619\u001b[0m\n",
      "\u001b[34m[17:28:58] src/tree/updater_prune.cc:74: tree pruning end, 1 roots, 24 extra nodes, 10 pruned nodes, max_depth=5\u001b[0m\n",
      "\u001b[34m[75]#011train-error:0.121267#011validation-error:0.1623\u001b[0m\n",
      "\u001b[34m[17:28:59] src/tree/updater_prune.cc:74: tree pruning end, 1 roots, 14 extra nodes, 20 pruned nodes, max_depth=5\u001b[0m\n",
      "\u001b[34m[76]#011train-error:0.12#011validation-error:0.1616\u001b[0m\n",
      "\u001b[34m[17:29:00] src/tree/updater_prune.cc:74: tree pruning end, 1 roots, 12 extra nodes, 14 pruned nodes, max_depth=5\u001b[0m\n",
      "\u001b[34m[77]#011train-error:0.1198#011validation-error:0.1613\u001b[0m\n",
      "\u001b[34m[17:29:01] src/tree/updater_prune.cc:74: tree pruning end, 1 roots, 16 extra nodes, 4 pruned nodes, max_depth=5\u001b[0m\n",
      "\u001b[34m[78]#011train-error:0.1198#011validation-error:0.1601\u001b[0m\n",
      "\u001b[34m[17:29:03] src/tree/updater_prune.cc:74: tree pruning end, 1 roots, 16 extra nodes, 16 pruned nodes, max_depth=5\u001b[0m\n",
      "\u001b[34m[79]#011train-error:0.1186#011validation-error:0.16\u001b[0m\n",
      "\u001b[34m[17:29:04] src/tree/updater_prune.cc:74: tree pruning end, 1 roots, 20 extra nodes, 10 pruned nodes, max_depth=5\u001b[0m\n",
      "\u001b[34m[80]#011train-error:0.118#011validation-error:0.1588\u001b[0m\n",
      "\u001b[34m[17:29:05] src/tree/updater_prune.cc:74: tree pruning end, 1 roots, 18 extra nodes, 8 pruned nodes, max_depth=5\u001b[0m\n",
      "\u001b[34m[81]#011train-error:0.118#011validation-error:0.1601\u001b[0m\n",
      "\u001b[34m[17:29:06] src/tree/updater_prune.cc:74: tree pruning end, 1 roots, 12 extra nodes, 8 pruned nodes, max_depth=5\u001b[0m\n",
      "\u001b[34m[82]#011train-error:0.1168#011validation-error:0.1596\u001b[0m\n",
      "\u001b[34m[17:29:08] src/tree/updater_prune.cc:74: tree pruning end, 1 roots, 14 extra nodes, 8 pruned nodes, max_depth=5\u001b[0m\n",
      "\u001b[34m[83]#011train-error:0.1168#011validation-error:0.1588\u001b[0m\n",
      "\u001b[34m[17:29:09] src/tree/updater_prune.cc:74: tree pruning end, 1 roots, 20 extra nodes, 8 pruned nodes, max_depth=5\u001b[0m\n",
      "\u001b[34m[84]#011train-error:0.1162#011validation-error:0.1591\u001b[0m\n",
      "\u001b[34m[17:29:10] src/tree/updater_prune.cc:74: tree pruning end, 1 roots, 16 extra nodes, 8 pruned nodes, max_depth=5\u001b[0m\n",
      "\u001b[34m[85]#011train-error:0.1164#011validation-error:0.1595\u001b[0m\n",
      "\u001b[34m[17:29:12] src/tree/updater_prune.cc:74: tree pruning end, 1 roots, 26 extra nodes, 6 pruned nodes, max_depth=5\u001b[0m\n",
      "\u001b[34m[86]#011train-error:0.116#011validation-error:0.1585\u001b[0m\n",
      "\u001b[34m[17:29:13] src/tree/updater_prune.cc:74: tree pruning end, 1 roots, 16 extra nodes, 10 pruned nodes, max_depth=5\u001b[0m\n",
      "\u001b[34m[87]#011train-error:0.1154#011validation-error:0.1577\u001b[0m\n",
      "\u001b[34m[17:29:14] src/tree/updater_prune.cc:74: tree pruning end, 1 roots, 18 extra nodes, 14 pruned nodes, max_depth=5\u001b[0m\n",
      "\u001b[34m[88]#011train-error:0.114133#011validation-error:0.1573\u001b[0m\n",
      "\u001b[34m[17:29:15] src/tree/updater_prune.cc:74: tree pruning end, 1 roots, 10 extra nodes, 14 pruned nodes, max_depth=5\u001b[0m\n",
      "\u001b[34m[89]#011train-error:0.1138#011validation-error:0.1576\u001b[0m\n",
      "\u001b[34m[17:29:17] src/tree/updater_prune.cc:74: tree pruning end, 1 roots, 20 extra nodes, 2 pruned nodes, max_depth=5\u001b[0m\n",
      "\u001b[34m[90]#011train-error:0.112933#011validation-error:0.1578\u001b[0m\n",
      "\u001b[34m[17:29:18] src/tree/updater_prune.cc:74: tree pruning end, 1 roots, 20 extra nodes, 16 pruned nodes, max_depth=5\u001b[0m\n",
      "\u001b[34m[91]#011train-error:0.1124#011validation-error:0.158\u001b[0m\n"
     ]
    },
    {
     "name": "stdout",
     "output_type": "stream",
     "text": [
      "\u001b[34m[17:29:19] src/tree/updater_prune.cc:74: tree pruning end, 1 roots, 18 extra nodes, 6 pruned nodes, max_depth=5\u001b[0m\n",
      "\u001b[34m[92]#011train-error:0.111867#011validation-error:0.1572\u001b[0m\n",
      "\u001b[34m[17:29:20] src/tree/updater_prune.cc:74: tree pruning end, 1 roots, 30 extra nodes, 4 pruned nodes, max_depth=5\u001b[0m\n",
      "\u001b[34m[93]#011train-error:0.111867#011validation-error:0.1571\u001b[0m\n",
      "\u001b[34m[17:29:22] src/tree/updater_prune.cc:74: tree pruning end, 1 roots, 26 extra nodes, 2 pruned nodes, max_depth=5\u001b[0m\n",
      "\u001b[34m[94]#011train-error:0.1106#011validation-error:0.1559\u001b[0m\n",
      "\u001b[34m[17:29:23] src/tree/updater_prune.cc:74: tree pruning end, 1 roots, 16 extra nodes, 10 pruned nodes, max_depth=5\u001b[0m\n",
      "\u001b[34m[95]#011train-error:0.110333#011validation-error:0.1552\u001b[0m\n",
      "\u001b[34m[17:29:24] src/tree/updater_prune.cc:74: tree pruning end, 1 roots, 14 extra nodes, 8 pruned nodes, max_depth=5\u001b[0m\n",
      "\u001b[34m[96]#011train-error:0.109867#011validation-error:0.1544\u001b[0m\n",
      "\u001b[34m[17:29:25] src/tree/updater_prune.cc:74: tree pruning end, 1 roots, 16 extra nodes, 4 pruned nodes, max_depth=5\u001b[0m\n",
      "\u001b[34m[97]#011train-error:0.1092#011validation-error:0.1545\u001b[0m\n",
      "\u001b[34m[17:29:27] src/tree/updater_prune.cc:74: tree pruning end, 1 roots, 12 extra nodes, 0 pruned nodes, max_depth=5\u001b[0m\n",
      "\u001b[34m[98]#011train-error:0.1092#011validation-error:0.1552\u001b[0m\n",
      "\u001b[34m[17:29:28] src/tree/updater_prune.cc:74: tree pruning end, 1 roots, 12 extra nodes, 4 pruned nodes, max_depth=5\u001b[0m\n",
      "\u001b[34m[99]#011train-error:0.1088#011validation-error:0.1548\u001b[0m\n",
      "\u001b[34m[17:29:29] src/tree/updater_prune.cc:74: tree pruning end, 1 roots, 14 extra nodes, 4 pruned nodes, max_depth=5\u001b[0m\n",
      "\u001b[34m[100]#011train-error:0.108067#011validation-error:0.154\u001b[0m\n",
      "\u001b[34m[17:29:30] src/tree/updater_prune.cc:74: tree pruning end, 1 roots, 18 extra nodes, 16 pruned nodes, max_depth=5\u001b[0m\n",
      "\u001b[34m[101]#011train-error:0.108533#011validation-error:0.1542\u001b[0m\n",
      "\u001b[34m[17:29:32] src/tree/updater_prune.cc:74: tree pruning end, 1 roots, 12 extra nodes, 8 pruned nodes, max_depth=5\u001b[0m\n",
      "\u001b[34m[102]#011train-error:0.1082#011validation-error:0.1542\u001b[0m\n",
      "\u001b[34m[17:29:33] src/tree/updater_prune.cc:74: tree pruning end, 1 roots, 18 extra nodes, 10 pruned nodes, max_depth=5\u001b[0m\n",
      "\u001b[34m[103]#011train-error:0.108267#011validation-error:0.1539\u001b[0m\n",
      "\u001b[34m[17:29:34] src/tree/updater_prune.cc:74: tree pruning end, 1 roots, 10 extra nodes, 2 pruned nodes, max_depth=5\u001b[0m\n",
      "\u001b[34m[104]#011train-error:0.107533#011validation-error:0.1534\u001b[0m\n",
      "\u001b[34m[17:29:35] src/tree/updater_prune.cc:74: tree pruning end, 1 roots, 10 extra nodes, 4 pruned nodes, max_depth=5\u001b[0m\n",
      "\u001b[34m[105]#011train-error:0.107333#011validation-error:0.1525\u001b[0m\n",
      "\u001b[34m[17:29:37] src/tree/updater_prune.cc:74: tree pruning end, 1 roots, 24 extra nodes, 20 pruned nodes, max_depth=5\u001b[0m\n",
      "\u001b[34m[106]#011train-error:0.106#011validation-error:0.1535\u001b[0m\n",
      "\u001b[34m[17:29:38] src/tree/updater_prune.cc:74: tree pruning end, 1 roots, 24 extra nodes, 10 pruned nodes, max_depth=5\u001b[0m\n",
      "\u001b[34m[107]#011train-error:0.105267#011validation-error:0.1524\u001b[0m\n",
      "\u001b[34m[17:29:39] src/tree/updater_prune.cc:74: tree pruning end, 1 roots, 18 extra nodes, 8 pruned nodes, max_depth=5\u001b[0m\n",
      "\u001b[34m[108]#011train-error:0.104267#011validation-error:0.1518\u001b[0m\n",
      "\u001b[34m[17:29:40] src/tree/updater_prune.cc:74: tree pruning end, 1 roots, 10 extra nodes, 10 pruned nodes, max_depth=5\u001b[0m\n",
      "\u001b[34m[109]#011train-error:0.103933#011validation-error:0.1521\u001b[0m\n",
      "\u001b[34m[17:29:42] src/tree/updater_prune.cc:74: tree pruning end, 1 roots, 10 extra nodes, 8 pruned nodes, max_depth=5\u001b[0m\n",
      "\u001b[34m[110]#011train-error:0.104467#011validation-error:0.1522\u001b[0m\n",
      "\u001b[34m[17:29:43] src/tree/updater_prune.cc:74: tree pruning end, 1 roots, 26 extra nodes, 6 pruned nodes, max_depth=5\u001b[0m\n",
      "\u001b[34m[111]#011train-error:0.104267#011validation-error:0.1513\u001b[0m\n",
      "\u001b[34m[17:29:44] src/tree/updater_prune.cc:74: tree pruning end, 1 roots, 22 extra nodes, 6 pruned nodes, max_depth=5\u001b[0m\n",
      "\u001b[34m[112]#011train-error:0.104067#011validation-error:0.1517\u001b[0m\n",
      "\u001b[34m[17:29:45] src/tree/updater_prune.cc:74: tree pruning end, 1 roots, 12 extra nodes, 8 pruned nodes, max_depth=5\u001b[0m\n",
      "\u001b[34m[113]#011train-error:0.103867#011validation-error:0.1521\u001b[0m\n",
      "\u001b[34m[17:29:47] src/tree/updater_prune.cc:74: tree pruning end, 1 roots, 12 extra nodes, 4 pruned nodes, max_depth=5\u001b[0m\n",
      "\u001b[34m[114]#011train-error:0.102933#011validation-error:0.1518\u001b[0m\n",
      "\u001b[34m[17:29:48] src/tree/updater_prune.cc:74: tree pruning end, 1 roots, 22 extra nodes, 10 pruned nodes, max_depth=5\u001b[0m\n",
      "\u001b[34m[115]#011train-error:0.102667#011validation-error:0.1509\u001b[0m\n",
      "\u001b[34m[17:29:49] src/tree/updater_prune.cc:74: tree pruning end, 1 roots, 18 extra nodes, 12 pruned nodes, max_depth=5\u001b[0m\n",
      "\u001b[34m[116]#011train-error:0.102733#011validation-error:0.1493\u001b[0m\n",
      "\u001b[34m[17:29:51] src/tree/updater_prune.cc:74: tree pruning end, 1 roots, 10 extra nodes, 6 pruned nodes, max_depth=5\u001b[0m\n",
      "\u001b[34m[117]#011train-error:0.1026#011validation-error:0.1495\u001b[0m\n",
      "\u001b[34m[17:29:52] src/tree/updater_prune.cc:74: tree pruning end, 1 roots, 14 extra nodes, 4 pruned nodes, max_depth=5\u001b[0m\n",
      "\u001b[34m[118]#011train-error:0.102733#011validation-error:0.1493\u001b[0m\n",
      "\u001b[34m[17:29:53] src/tree/updater_prune.cc:74: tree pruning end, 1 roots, 18 extra nodes, 10 pruned nodes, max_depth=5\u001b[0m\n",
      "\u001b[34m[119]#011train-error:0.1014#011validation-error:0.1491\u001b[0m\n",
      "\u001b[34m[17:29:54] src/tree/updater_prune.cc:74: tree pruning end, 1 roots, 14 extra nodes, 10 pruned nodes, max_depth=5\u001b[0m\n",
      "\u001b[34m[120]#011train-error:0.1012#011validation-error:0.1499\u001b[0m\n",
      "\u001b[34m[17:29:56] src/tree/updater_prune.cc:74: tree pruning end, 1 roots, 12 extra nodes, 6 pruned nodes, max_depth=5\u001b[0m\n",
      "\u001b[34m[121]#011train-error:0.101#011validation-error:0.1495\u001b[0m\n",
      "\u001b[34m[17:29:57] src/tree/updater_prune.cc:74: tree pruning end, 1 roots, 16 extra nodes, 2 pruned nodes, max_depth=5\u001b[0m\n",
      "\u001b[34m[122]#011train-error:0.100067#011validation-error:0.1479\u001b[0m\n",
      "\u001b[34m[17:29:58] src/tree/updater_prune.cc:74: tree pruning end, 1 roots, 10 extra nodes, 4 pruned nodes, max_depth=5\u001b[0m\n",
      "\u001b[34m[123]#011train-error:0.1002#011validation-error:0.1473\u001b[0m\n",
      "\u001b[34m[17:29:59] src/tree/updater_prune.cc:74: tree pruning end, 1 roots, 16 extra nodes, 16 pruned nodes, max_depth=5\u001b[0m\n",
      "\u001b[34m[124]#011train-error:0.0994#011validation-error:0.1477\u001b[0m\n",
      "\u001b[34m[17:30:01] src/tree/updater_prune.cc:74: tree pruning end, 1 roots, 10 extra nodes, 6 pruned nodes, max_depth=5\u001b[0m\n",
      "\u001b[34m[125]#011train-error:0.0988#011validation-error:0.1478\u001b[0m\n",
      "\u001b[34m[17:30:02] src/tree/updater_prune.cc:74: tree pruning end, 1 roots, 10 extra nodes, 12 pruned nodes, max_depth=5\u001b[0m\n",
      "\u001b[34m[126]#011train-error:0.099133#011validation-error:0.1475\u001b[0m\n",
      "\u001b[34m[17:30:03] src/tree/updater_prune.cc:74: tree pruning end, 1 roots, 14 extra nodes, 12 pruned nodes, max_depth=5\u001b[0m\n",
      "\u001b[34m[127]#011train-error:0.098467#011validation-error:0.1471\u001b[0m\n",
      "\u001b[34m[17:30:04] src/tree/updater_prune.cc:74: tree pruning end, 1 roots, 10 extra nodes, 4 pruned nodes, max_depth=5\u001b[0m\n",
      "\u001b[34m[128]#011train-error:0.0982#011validation-error:0.1465\u001b[0m\n",
      "\u001b[34m[17:30:06] src/tree/updater_prune.cc:74: tree pruning end, 1 roots, 14 extra nodes, 8 pruned nodes, max_depth=5\u001b[0m\n",
      "\u001b[34m[129]#011train-error:0.097467#011validation-error:0.1467\u001b[0m\n",
      "\u001b[34m[17:30:07] src/tree/updater_prune.cc:74: tree pruning end, 1 roots, 12 extra nodes, 6 pruned nodes, max_depth=5\u001b[0m\n",
      "\u001b[34m[130]#011train-error:0.0972#011validation-error:0.1468\u001b[0m\n",
      "\u001b[34m[17:30:08] src/tree/updater_prune.cc:74: tree pruning end, 1 roots, 26 extra nodes, 14 pruned nodes, max_depth=5\u001b[0m\n",
      "\u001b[34m[131]#011train-error:0.0968#011validation-error:0.1457\u001b[0m\n",
      "\u001b[34m[17:30:10] src/tree/updater_prune.cc:74: tree pruning end, 1 roots, 12 extra nodes, 14 pruned nodes, max_depth=5\u001b[0m\n",
      "\u001b[34m[132]#011train-error:0.096533#011validation-error:0.1457\u001b[0m\n",
      "\u001b[34m[17:30:11] src/tree/updater_prune.cc:74: tree pruning end, 1 roots, 20 extra nodes, 6 pruned nodes, max_depth=5\u001b[0m\n",
      "\u001b[34m[133]#011train-error:0.096333#011validation-error:0.1451\u001b[0m\n",
      "\u001b[34m[17:30:12] src/tree/updater_prune.cc:74: tree pruning end, 1 roots, 18 extra nodes, 10 pruned nodes, max_depth=5\u001b[0m\n",
      "\u001b[34m[134]#011train-error:0.0962#011validation-error:0.1453\u001b[0m\n",
      "\u001b[34m[17:30:13] src/tree/updater_prune.cc:74: tree pruning end, 1 roots, 12 extra nodes, 4 pruned nodes, max_depth=5\u001b[0m\n",
      "\u001b[34m[135]#011train-error:0.0966#011validation-error:0.1449\u001b[0m\n",
      "\u001b[34m[17:30:15] src/tree/updater_prune.cc:74: tree pruning end, 1 roots, 14 extra nodes, 4 pruned nodes, max_depth=5\u001b[0m\n",
      "\u001b[34m[136]#011train-error:0.095733#011validation-error:0.1449\u001b[0m\n",
      "\u001b[34m[17:30:16] src/tree/updater_prune.cc:74: tree pruning end, 1 roots, 12 extra nodes, 8 pruned nodes, max_depth=5\u001b[0m\n",
      "\u001b[34m[137]#011train-error:0.0952#011validation-error:0.1451\u001b[0m\n",
      "\u001b[34m[17:30:17] src/tree/updater_prune.cc:74: tree pruning end, 1 roots, 10 extra nodes, 6 pruned nodes, max_depth=5\u001b[0m\n",
      "\u001b[34m[138]#011train-error:0.094933#011validation-error:0.1444\u001b[0m\n",
      "\u001b[34m[17:30:18] src/tree/updater_prune.cc:74: tree pruning end, 1 roots, 20 extra nodes, 4 pruned nodes, max_depth=5\u001b[0m\n",
      "\u001b[34m[139]#011train-error:0.095#011validation-error:0.1437\u001b[0m\n"
     ]
    },
    {
     "name": "stdout",
     "output_type": "stream",
     "text": [
      "\u001b[34m[17:30:20] src/tree/updater_prune.cc:74: tree pruning end, 1 roots, 10 extra nodes, 10 pruned nodes, max_depth=5\u001b[0m\n",
      "\u001b[34m[140]#011train-error:0.094667#011validation-error:0.1431\u001b[0m\n",
      "\u001b[34m[17:30:21] src/tree/updater_prune.cc:74: tree pruning end, 1 roots, 12 extra nodes, 6 pruned nodes, max_depth=5\u001b[0m\n",
      "\u001b[34m[141]#011train-error:0.0944#011validation-error:0.1428\u001b[0m\n",
      "\u001b[34m[17:30:22] src/tree/updater_prune.cc:74: tree pruning end, 1 roots, 10 extra nodes, 0 pruned nodes, max_depth=5\u001b[0m\n",
      "\u001b[34m[142]#011train-error:0.0944#011validation-error:0.1422\u001b[0m\n",
      "\u001b[34m[17:30:23] src/tree/updater_prune.cc:74: tree pruning end, 1 roots, 18 extra nodes, 8 pruned nodes, max_depth=5\u001b[0m\n",
      "\u001b[34m[143]#011train-error:0.094#011validation-error:0.1426\u001b[0m\n",
      "\u001b[34m[17:30:25] src/tree/updater_prune.cc:74: tree pruning end, 1 roots, 26 extra nodes, 2 pruned nodes, max_depth=5\u001b[0m\n",
      "\u001b[34m[144]#011train-error:0.0936#011validation-error:0.143\u001b[0m\n",
      "\u001b[34m[17:30:26] src/tree/updater_prune.cc:74: tree pruning end, 1 roots, 20 extra nodes, 10 pruned nodes, max_depth=5\u001b[0m\n",
      "\u001b[34m[145]#011train-error:0.093133#011validation-error:0.1427\u001b[0m\n",
      "\u001b[34m[17:30:27] src/tree/updater_prune.cc:74: tree pruning end, 1 roots, 10 extra nodes, 2 pruned nodes, max_depth=5\u001b[0m\n",
      "\u001b[34m[146]#011train-error:0.092267#011validation-error:0.1425\u001b[0m\n",
      "\u001b[34m[17:30:28] src/tree/updater_prune.cc:74: tree pruning end, 1 roots, 12 extra nodes, 10 pruned nodes, max_depth=5\u001b[0m\n",
      "\u001b[34m[147]#011train-error:0.091733#011validation-error:0.1426\u001b[0m\n",
      "\u001b[34m[17:30:30] src/tree/updater_prune.cc:74: tree pruning end, 1 roots, 20 extra nodes, 4 pruned nodes, max_depth=5\u001b[0m\n",
      "\u001b[34m[148]#011train-error:0.091667#011validation-error:0.1427\u001b[0m\n",
      "\u001b[34m[17:30:31] src/tree/updater_prune.cc:74: tree pruning end, 1 roots, 14 extra nodes, 10 pruned nodes, max_depth=5\u001b[0m\n",
      "\u001b[34m[149]#011train-error:0.091333#011validation-error:0.143\u001b[0m\n",
      "\u001b[34m[17:30:32] src/tree/updater_prune.cc:74: tree pruning end, 1 roots, 14 extra nodes, 12 pruned nodes, max_depth=5\u001b[0m\n",
      "\u001b[34m[150]#011train-error:0.090467#011validation-error:0.1422\u001b[0m\n",
      "\u001b[34m[17:30:33] src/tree/updater_prune.cc:74: tree pruning end, 1 roots, 18 extra nodes, 8 pruned nodes, max_depth=5\u001b[0m\n",
      "\u001b[34m[151]#011train-error:0.09#011validation-error:0.1429\u001b[0m\n",
      "\u001b[34m[17:30:35] src/tree/updater_prune.cc:74: tree pruning end, 1 roots, 12 extra nodes, 6 pruned nodes, max_depth=5\u001b[0m\n",
      "\u001b[34m[152]#011train-error:0.090267#011validation-error:0.1428\u001b[0m\n",
      "\u001b[34mStopping. Best iteration:\u001b[0m\n",
      "\u001b[34m[142]#011train-error:0.0944#011validation-error:0.1422\n",
      "\u001b[0m\n",
      "\n",
      "2020-02-18 17:30:46 Uploading - Uploading generated training model\n",
      "2020-02-18 17:30:46 Completed - Training job completed\n",
      "Training seconds: 247\n",
      "Billable seconds: 247\n"
     ]
    }
   ],
   "source": [
    "xgb.fit({'train': s3_input_train, 'validation': s3_input_validation})"
   ]
  },
  {
   "cell_type": "markdown",
   "metadata": {},
   "source": [
    "### (TODO) Testing the model\n",
    "\n",
    "Now that we've fit our XGBoost model, it's time to see how well it performs. To do this we will use SageMakers Batch Transform functionality. Batch Transform is a convenient way to perform inference on a large dataset in a way that is not realtime. That is, we don't necessarily need to use our model's results immediately and instead we can peform inference on a large number of samples. An example of this in industry might be peforming an end of month report. This method of inference can also be useful to us as it means to can perform inference on our entire test set. \n",
    "\n",
    "To perform a Batch Transformation we need to first create a transformer objects from our trained estimator object."
   ]
  },
  {
   "cell_type": "code",
   "execution_count": 24,
   "metadata": {},
   "outputs": [],
   "source": [
    "# TODO: Create a transformer object from the trained model. Using an instance count of 1 and an instance type of ml.m4.xlarge\n",
    "#       should be more than enough.\n",
    "xgb_transformer = xgb.transformer(instance_count=1, instance_type='ml.m4.xlarge')"
   ]
  },
  {
   "cell_type": "markdown",
   "metadata": {},
   "source": [
    "Next we actually perform the transform job. When doing so we need to make sure to specify the type of data we are sending so that it is serialized correctly in the background. In our case we are providing our model with csv data so we specify `text/csv`. Also, if the test data that we have provided is too large to process all at once then we need to specify how the data file should be split up. Since each line is a single entry in our data set we tell SageMaker that it can split the input on each line."
   ]
  },
  {
   "cell_type": "code",
   "execution_count": 25,
   "metadata": {},
   "outputs": [],
   "source": [
    "# TODO: Start the transform job. Make sure to specify the content type and the split type of the test data.\n",
    "xgb_transformer.transform(test_location, content_type='text/csv', split_type='Line')"
   ]
  },
  {
   "cell_type": "markdown",
   "metadata": {},
   "source": [
    "Currently the transform job is running but it is doing so in the background. Since we wish to wait until the transform job is done and we would like a bit of feedback we can run the `wait()` method."
   ]
  },
  {
   "cell_type": "code",
   "execution_count": 26,
   "metadata": {},
   "outputs": [
    {
     "name": "stdout",
     "output_type": "stream",
     "text": [
      "....................\u001b[34mArguments: serve\u001b[0m\n",
      "\u001b[34m[2020-02-18 17:48:40 +0000] [1] [INFO] Starting gunicorn 19.7.1\u001b[0m\n",
      "\u001b[34m[2020-02-18 17:48:40 +0000] [1] [INFO] Listening at: http://0.0.0.0:8080 (1)\u001b[0m\n",
      "\u001b[34m[2020-02-18 17:48:40 +0000] [1] [INFO] Using worker: gevent\u001b[0m\n",
      "\u001b[34m[2020-02-18 17:48:40 +0000] [38] [INFO] Booting worker with pid: 38\u001b[0m\n",
      "\u001b[34m[2020-02-18 17:48:40 +0000] [39] [INFO] Booting worker with pid: 39\u001b[0m\n",
      "\u001b[34m[2020-02-18:17:48:40:INFO] Model loaded successfully for worker : 38\u001b[0m\n",
      "\u001b[34m[2020-02-18 17:48:40 +0000] [40] [INFO] Booting worker with pid: 40\u001b[0m\n",
      "\u001b[34m[2020-02-18:17:48:40:INFO] Model loaded successfully for worker : 39\u001b[0m\n",
      "\u001b[34m[2020-02-18 17:48:40 +0000] [41] [INFO] Booting worker with pid: 41\u001b[0m\n",
      "\u001b[34m[2020-02-18:17:48:40:INFO] Model loaded successfully for worker : 40\u001b[0m\n",
      "\u001b[34m[2020-02-18:17:48:40:INFO] Model loaded successfully for worker : 41\u001b[0m\n",
      "\u001b[34m[2020-02-18:17:48:52:INFO] Sniff delimiter as ','\u001b[0m\n",
      "\u001b[34m[2020-02-18:17:48:52:INFO] Determined delimiter of CSV input is ','\u001b[0m\n",
      "\u001b[34m[2020-02-18:17:48:52:INFO] Sniff delimiter as ','\u001b[0m\n",
      "\u001b[34m[2020-02-18:17:48:52:INFO] Determined delimiter of CSV input is ','\u001b[0m\n",
      "\u001b[34m[2020-02-18:17:48:52:INFO] Sniff delimiter as ','\u001b[0m\n",
      "\u001b[34m[2020-02-18:17:48:52:INFO] Determined delimiter of CSV input is ','\u001b[0m\n",
      "\u001b[34m[2020-02-18:17:48:52:INFO] Sniff delimiter as ','\u001b[0m\n",
      "\u001b[35m[2020-02-18:17:48:52:INFO] Sniff delimiter as ','\u001b[0m\n",
      "\u001b[35m[2020-02-18:17:48:52:INFO] Determined delimiter of CSV input is ','\u001b[0m\n",
      "\u001b[35m[2020-02-18:17:48:52:INFO] Sniff delimiter as ','\u001b[0m\n",
      "\u001b[35m[2020-02-18:17:48:52:INFO] Determined delimiter of CSV input is ','\u001b[0m\n",
      "\u001b[35m[2020-02-18:17:48:52:INFO] Sniff delimiter as ','\u001b[0m\n",
      "\u001b[35m[2020-02-18:17:48:52:INFO] Determined delimiter of CSV input is ','\u001b[0m\n",
      "\u001b[35m[2020-02-18:17:48:52:INFO] Sniff delimiter as ','\u001b[0m\n",
      "\u001b[34m[2020-02-18:17:48:52:INFO] Determined delimiter of CSV input is ','\u001b[0m\n",
      "\u001b[35m[2020-02-18:17:48:52:INFO] Determined delimiter of CSV input is ','\u001b[0m\n",
      "\u001b[32m2020-02-18T17:48:49.054:[sagemaker logs]: MaxConcurrentTransforms=4, MaxPayloadInMB=6, BatchStrategy=MULTI_RECORD\u001b[0m\n",
      "\u001b[34m[2020-02-18:17:48:55:INFO] Sniff delimiter as ','\u001b[0m\n",
      "\u001b[35m[2020-02-18:17:48:55:INFO] Sniff delimiter as ','\u001b[0m\n",
      "\u001b[34m[2020-02-18:17:48:55:INFO] Determined delimiter of CSV input is ','\u001b[0m\n",
      "\u001b[34m[2020-02-18:17:48:55:INFO] Sniff delimiter as ','\u001b[0m\n",
      "\u001b[34m[2020-02-18:17:48:55:INFO] Determined delimiter of CSV input is ','\u001b[0m\n",
      "\u001b[34m[2020-02-18:17:48:55:INFO] Sniff delimiter as ','\u001b[0m\n",
      "\u001b[34m[2020-02-18:17:48:55:INFO] Determined delimiter of CSV input is ','\u001b[0m\n",
      "\u001b[34m[2020-02-18:17:48:55:INFO] Sniff delimiter as ','\u001b[0m\n",
      "\u001b[34m[2020-02-18:17:48:55:INFO] Determined delimiter of CSV input is ','\u001b[0m\n",
      "\u001b[35m[2020-02-18:17:48:55:INFO] Determined delimiter of CSV input is ','\u001b[0m\n",
      "\u001b[35m[2020-02-18:17:48:55:INFO] Sniff delimiter as ','\u001b[0m\n",
      "\u001b[35m[2020-02-18:17:48:55:INFO] Determined delimiter of CSV input is ','\u001b[0m\n",
      "\u001b[35m[2020-02-18:17:48:55:INFO] Sniff delimiter as ','\u001b[0m\n",
      "\u001b[35m[2020-02-18:17:48:55:INFO] Determined delimiter of CSV input is ','\u001b[0m\n",
      "\u001b[35m[2020-02-18:17:48:55:INFO] Sniff delimiter as ','\u001b[0m\n",
      "\u001b[35m[2020-02-18:17:48:55:INFO] Determined delimiter of CSV input is ','\u001b[0m\n",
      "\u001b[34m[2020-02-18:17:48:57:INFO] Sniff delimiter as ','\u001b[0m\n",
      "\u001b[34m[2020-02-18:17:48:57:INFO] Determined delimiter of CSV input is ','\u001b[0m\n",
      "\u001b[34m[2020-02-18:17:48:57:INFO] Sniff delimiter as ','\u001b[0m\n",
      "\u001b[34m[2020-02-18:17:48:57:INFO] Determined delimiter of CSV input is ','\u001b[0m\n",
      "\u001b[34m[2020-02-18:17:48:57:INFO] Sniff delimiter as ','\u001b[0m\n",
      "\u001b[34m[2020-02-18:17:48:57:INFO] Determined delimiter of CSV input is ','\u001b[0m\n",
      "\u001b[35m[2020-02-18:17:48:57:INFO] Sniff delimiter as ','\u001b[0m\n",
      "\u001b[35m[2020-02-18:17:48:57:INFO] Determined delimiter of CSV input is ','\u001b[0m\n",
      "\u001b[35m[2020-02-18:17:48:57:INFO] Sniff delimiter as ','\u001b[0m\n",
      "\u001b[35m[2020-02-18:17:48:57:INFO] Determined delimiter of CSV input is ','\u001b[0m\n",
      "\u001b[35m[2020-02-18:17:48:57:INFO] Sniff delimiter as ','\u001b[0m\n",
      "\u001b[35m[2020-02-18:17:48:57:INFO] Determined delimiter of CSV input is ','\u001b[0m\n",
      "\u001b[34m[2020-02-18:17:48:58:INFO] Sniff delimiter as ','\u001b[0m\n",
      "\u001b[34m[2020-02-18:17:48:58:INFO] Determined delimiter of CSV input is ','\u001b[0m\n",
      "\u001b[35m[2020-02-18:17:48:58:INFO] Sniff delimiter as ','\u001b[0m\n",
      "\u001b[35m[2020-02-18:17:48:58:INFO] Determined delimiter of CSV input is ','\u001b[0m\n",
      "\u001b[34m[2020-02-18:17:49:00:INFO] Sniff delimiter as ','\u001b[0m\n",
      "\u001b[34m[2020-02-18:17:49:00:INFO] Determined delimiter of CSV input is ','\u001b[0m\n",
      "\u001b[34m[2020-02-18:17:49:00:INFO] Sniff delimiter as ','\u001b[0m\n",
      "\u001b[34m[2020-02-18:17:49:00:INFO] Determined delimiter of CSV input is ','\u001b[0m\n",
      "\u001b[34m[2020-02-18:17:49:00:INFO] Sniff delimiter as ','\u001b[0m\n",
      "\u001b[34m[2020-02-18:17:49:00:INFO] Determined delimiter of CSV input is ','\u001b[0m\n",
      "\u001b[34m[2020-02-18:17:49:00:INFO] Sniff delimiter as ','\u001b[0m\n",
      "\u001b[34m[2020-02-18:17:49:00:INFO] Determined delimiter of CSV input is ','\u001b[0m\n",
      "\u001b[35m[2020-02-18:17:49:00:INFO] Sniff delimiter as ','\u001b[0m\n",
      "\u001b[35m[2020-02-18:17:49:00:INFO] Determined delimiter of CSV input is ','\u001b[0m\n",
      "\u001b[35m[2020-02-18:17:49:00:INFO] Sniff delimiter as ','\u001b[0m\n",
      "\u001b[35m[2020-02-18:17:49:00:INFO] Determined delimiter of CSV input is ','\u001b[0m\n",
      "\u001b[35m[2020-02-18:17:49:00:INFO] Sniff delimiter as ','\u001b[0m\n",
      "\u001b[35m[2020-02-18:17:49:00:INFO] Determined delimiter of CSV input is ','\u001b[0m\n",
      "\u001b[35m[2020-02-18:17:49:00:INFO] Sniff delimiter as ','\u001b[0m\n",
      "\u001b[35m[2020-02-18:17:49:00:INFO] Determined delimiter of CSV input is ','\u001b[0m\n",
      "\u001b[34m[2020-02-18:17:49:05:INFO] Sniff delimiter as ','\u001b[0m\n",
      "\u001b[34m[2020-02-18:17:49:05:INFO] Determined delimiter of CSV input is ','\u001b[0m\n",
      "\u001b[35m[2020-02-18:17:49:05:INFO] Sniff delimiter as ','\u001b[0m\n",
      "\u001b[35m[2020-02-18:17:49:05:INFO] Determined delimiter of CSV input is ','\u001b[0m\n",
      "\u001b[34m[2020-02-18:17:49:05:INFO] Sniff delimiter as ','\u001b[0m\n",
      "\u001b[34m[2020-02-18:17:49:05:INFO] Determined delimiter of CSV input is ','\u001b[0m\n",
      "\u001b[34m[2020-02-18:17:49:05:INFO] Sniff delimiter as ','\u001b[0m\n",
      "\u001b[34m[2020-02-18:17:49:05:INFO] Determined delimiter of CSV input is ','\u001b[0m\n",
      "\u001b[34m[2020-02-18:17:49:05:INFO] Sniff delimiter as ','\u001b[0m\n",
      "\u001b[34m[2020-02-18:17:49:05:INFO] Determined delimiter of CSV input is ','\u001b[0m\n",
      "\u001b[35m[2020-02-18:17:49:05:INFO] Sniff delimiter as ','\u001b[0m\n",
      "\u001b[35m[2020-02-18:17:49:05:INFO] Determined delimiter of CSV input is ','\u001b[0m\n",
      "\u001b[35m[2020-02-18:17:49:05:INFO] Sniff delimiter as ','\u001b[0m\n",
      "\u001b[35m[2020-02-18:17:49:05:INFO] Determined delimiter of CSV input is ','\u001b[0m\n",
      "\u001b[35m[2020-02-18:17:49:05:INFO] Sniff delimiter as ','\u001b[0m\n",
      "\u001b[35m[2020-02-18:17:49:05:INFO] Determined delimiter of CSV input is ','\u001b[0m\n",
      "\u001b[34m[2020-02-18:17:49:07:INFO] Sniff delimiter as ','\u001b[0m\n",
      "\u001b[34m[2020-02-18:17:49:07:INFO] Determined delimiter of CSV input is ','\u001b[0m\n",
      "\u001b[34m[2020-02-18:17:49:07:INFO] Sniff delimiter as ','\u001b[0m\n",
      "\u001b[34m[2020-02-18:17:49:07:INFO] Determined delimiter of CSV input is ','\u001b[0m\n",
      "\u001b[34m[2020-02-18:17:49:07:INFO] Sniff delimiter as ','\u001b[0m\n",
      "\u001b[34m[2020-02-18:17:49:07:INFO] Determined delimiter of CSV input is ','\u001b[0m\n",
      "\u001b[34m[2020-02-18:17:49:07:INFO] Sniff delimiter as ','\u001b[0m\n",
      "\u001b[34m[2020-02-18:17:49:07:INFO] Determined delimiter of CSV input is ','\u001b[0m\n",
      "\u001b[35m[2020-02-18:17:49:07:INFO] Sniff delimiter as ','\u001b[0m\n",
      "\u001b[35m[2020-02-18:17:49:07:INFO] Determined delimiter of CSV input is ','\u001b[0m\n",
      "\u001b[35m[2020-02-18:17:49:07:INFO] Sniff delimiter as ','\u001b[0m\n",
      "\u001b[35m[2020-02-18:17:49:07:INFO] Determined delimiter of CSV input is ','\u001b[0m\n",
      "\u001b[35m[2020-02-18:17:49:07:INFO] Sniff delimiter as ','\u001b[0m\n",
      "\u001b[35m[2020-02-18:17:49:07:INFO] Determined delimiter of CSV input is ','\u001b[0m\n",
      "\u001b[35m[2020-02-18:17:49:07:INFO] Sniff delimiter as ','\u001b[0m\n",
      "\u001b[35m[2020-02-18:17:49:07:INFO] Determined delimiter of CSV input is ','\u001b[0m\n",
      "\u001b[34m[2020-02-18:17:49:09:INFO] Sniff delimiter as ','\u001b[0m\n",
      "\u001b[34m[2020-02-18:17:49:09:INFO] Determined delimiter of CSV input is ','\u001b[0m\n",
      "\u001b[34m[2020-02-18:17:49:09:INFO] Sniff delimiter as ','\u001b[0m\n",
      "\u001b[34m[2020-02-18:17:49:09:INFO] Determined delimiter of CSV input is ','\u001b[0m\n",
      "\u001b[34m[2020-02-18:17:49:10:INFO] Sniff delimiter as ','\u001b[0m\n",
      "\u001b[34m[2020-02-18:17:49:10:INFO] Determined delimiter of CSV input is ','\u001b[0m\n",
      "\u001b[35m[2020-02-18:17:49:09:INFO] Sniff delimiter as ','\u001b[0m\n",
      "\u001b[35m[2020-02-18:17:49:09:INFO] Determined delimiter of CSV input is ','\u001b[0m\n",
      "\u001b[35m[2020-02-18:17:49:09:INFO] Sniff delimiter as ','\u001b[0m\n",
      "\u001b[35m[2020-02-18:17:49:09:INFO] Determined delimiter of CSV input is ','\u001b[0m\n",
      "\u001b[35m[2020-02-18:17:49:10:INFO] Sniff delimiter as ','\u001b[0m\n",
      "\u001b[35m[2020-02-18:17:49:10:INFO] Determined delimiter of CSV input is ','\u001b[0m\n",
      "\u001b[34m[2020-02-18:17:49:10:INFO] Sniff delimiter as ','\u001b[0m\n",
      "\u001b[34m[2020-02-18:17:49:10:INFO] Determined delimiter of CSV input is ','\u001b[0m\n",
      "\u001b[35m[2020-02-18:17:49:10:INFO] Sniff delimiter as ','\u001b[0m\n",
      "\u001b[35m[2020-02-18:17:49:10:INFO] Determined delimiter of CSV input is ','\u001b[0m\n"
     ]
    },
    {
     "name": "stdout",
     "output_type": "stream",
     "text": [
      "\u001b[34m[2020-02-18:17:49:12:INFO] Sniff delimiter as ','\u001b[0m\n",
      "\u001b[34m[2020-02-18:17:49:12:INFO] Determined delimiter of CSV input is ','\u001b[0m\n",
      "\u001b[34m[2020-02-18:17:49:12:INFO] Sniff delimiter as ','\u001b[0m\n",
      "\u001b[34m[2020-02-18:17:49:12:INFO] Determined delimiter of CSV input is ','\u001b[0m\n",
      "\u001b[34m[2020-02-18:17:49:12:INFO] Sniff delimiter as ','\u001b[0m\n",
      "\u001b[34m[2020-02-18:17:49:12:INFO] Determined delimiter of CSV input is ','\u001b[0m\n",
      "\u001b[35m[2020-02-18:17:49:12:INFO] Sniff delimiter as ','\u001b[0m\n",
      "\u001b[35m[2020-02-18:17:49:12:INFO] Determined delimiter of CSV input is ','\u001b[0m\n",
      "\u001b[35m[2020-02-18:17:49:12:INFO] Sniff delimiter as ','\u001b[0m\n",
      "\u001b[35m[2020-02-18:17:49:12:INFO] Determined delimiter of CSV input is ','\u001b[0m\n",
      "\u001b[35m[2020-02-18:17:49:12:INFO] Sniff delimiter as ','\u001b[0m\n",
      "\u001b[35m[2020-02-18:17:49:12:INFO] Determined delimiter of CSV input is ','\u001b[0m\n",
      "\u001b[34m[2020-02-18:17:49:14:INFO] Sniff delimiter as ','\u001b[0m\n",
      "\u001b[34m[2020-02-18:17:49:14:INFO] Determined delimiter of CSV input is ','\u001b[0m\n",
      "\u001b[34m[2020-02-18:17:49:14:INFO] Sniff delimiter as ','\u001b[0m\n",
      "\u001b[34m[2020-02-18:17:49:14:INFO] Determined delimiter of CSV input is ','\u001b[0m\n",
      "\u001b[34m[2020-02-18:17:49:14:INFO] Sniff delimiter as ','\u001b[0m\n",
      "\u001b[34m[2020-02-18:17:49:14:INFO] Determined delimiter of CSV input is ','\u001b[0m\n",
      "\u001b[35m[2020-02-18:17:49:14:INFO] Sniff delimiter as ','\u001b[0m\n",
      "\u001b[35m[2020-02-18:17:49:14:INFO] Determined delimiter of CSV input is ','\u001b[0m\n",
      "\u001b[35m[2020-02-18:17:49:14:INFO] Sniff delimiter as ','\u001b[0m\n",
      "\u001b[35m[2020-02-18:17:49:14:INFO] Determined delimiter of CSV input is ','\u001b[0m\n",
      "\u001b[35m[2020-02-18:17:49:14:INFO] Sniff delimiter as ','\u001b[0m\n",
      "\u001b[35m[2020-02-18:17:49:14:INFO] Determined delimiter of CSV input is ','\u001b[0m\n",
      "\u001b[34m[2020-02-18:17:49:15:INFO] Sniff delimiter as ','\u001b[0m\n",
      "\u001b[34m[2020-02-18:17:49:15:INFO] Determined delimiter of CSV input is ','\u001b[0m\n",
      "\u001b[35m[2020-02-18:17:49:15:INFO] Sniff delimiter as ','\u001b[0m\n",
      "\u001b[35m[2020-02-18:17:49:15:INFO] Determined delimiter of CSV input is ','\u001b[0m\n",
      "\n"
     ]
    }
   ],
   "source": [
    "xgb_transformer.wait()"
   ]
  },
  {
   "cell_type": "markdown",
   "metadata": {},
   "source": [
    "Now the transform job has executed and the result, the estimated sentiment of each review, has been saved on S3. Since we would rather work on this file locally we can perform a bit of notebook magic to copy the file to the `data_dir`."
   ]
  },
  {
   "cell_type": "code",
   "execution_count": 27,
   "metadata": {},
   "outputs": [
    {
     "name": "stdout",
     "output_type": "stream",
     "text": [
      "Completed 256.0 KiB/370.0 KiB (4.0 MiB/s) with 1 file(s) remaining\r",
      "Completed 370.0 KiB/370.0 KiB (5.8 MiB/s) with 1 file(s) remaining\r",
      "download: s3://sagemaker-us-east-2-413099679270/xgboost-2020-02-18-17-45-30-279/test.csv.out to ../data/xgboost/test.csv.out\r\n"
     ]
    }
   ],
   "source": [
    "!aws s3 cp --recursive $xgb_transformer.output_path $data_dir"
   ]
  },
  {
   "cell_type": "markdown",
   "metadata": {},
   "source": [
    "The last step is now to read in the output from our model, convert the output to something a little more usable, in this case we want the sentiment to be either `1` (positive) or `0` (negative), and then compare to the ground truth labels."
   ]
  },
  {
   "cell_type": "code",
   "execution_count": 28,
   "metadata": {},
   "outputs": [],
   "source": [
    "predictions = pd.read_csv(os.path.join(data_dir, 'test.csv.out'), header=None)\n",
    "predictions = [round(num) for num in predictions.squeeze().values]"
   ]
  },
  {
   "cell_type": "code",
   "execution_count": 29,
   "metadata": {},
   "outputs": [
    {
     "data": {
      "text/plain": [
       "0.8588"
      ]
     },
     "execution_count": 29,
     "metadata": {},
     "output_type": "execute_result"
    }
   ],
   "source": [
    "from sklearn.metrics import accuracy_score\n",
    "accuracy_score(test_y, predictions)"
   ]
  },
  {
   "cell_type": "markdown",
   "metadata": {},
   "source": [
    "## Optional: Clean up\n",
    "\n",
    "The default notebook instance on SageMaker doesn't have a lot of excess disk space available. As you continue to complete and execute notebooks you will eventually fill up this disk space, leading to errors which can be difficult to diagnose. Once you are completely finished using a notebook it is a good idea to remove the files that you created along the way. Of course, you can do this from the terminal or from the notebook hub if you would like. The cell below contains some commands to clean up the created files from within the notebook."
   ]
  },
  {
   "cell_type": "code",
   "execution_count": 30,
   "metadata": {},
   "outputs": [],
   "source": [
    "# First we will remove all of the files contained in the data_dir directory\n",
    "!rm $data_dir/*\n",
    "\n",
    "# And then we delete the directory itself\n",
    "!rmdir $data_dir\n",
    "\n",
    "# Similarly we will remove the files in the cache_dir directory and the directory itself\n",
    "!rm $cache_dir/*\n",
    "!rmdir $cache_dir"
   ]
  },
  {
   "cell_type": "code",
   "execution_count": null,
   "metadata": {},
   "outputs": [],
   "source": []
  }
 ],
 "metadata": {
  "kernelspec": {
   "display_name": "conda_python3",
   "language": "python",
   "name": "conda_python3"
  },
  "language_info": {
   "codemirror_mode": {
    "name": "ipython",
    "version": 3
   },
   "file_extension": ".py",
   "mimetype": "text/x-python",
   "name": "python",
   "nbconvert_exporter": "python",
   "pygments_lexer": "ipython3",
   "version": "3.6.5"
  }
 },
 "nbformat": 4,
 "nbformat_minor": 2
}
